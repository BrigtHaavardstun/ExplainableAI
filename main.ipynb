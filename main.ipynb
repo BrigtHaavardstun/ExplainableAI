{
 "cells": [
  {
   "cell_type": "code",
   "execution_count": 1,
   "id": "07951040",
   "metadata": {},
   "outputs": [],
   "source": [
    "import run"
   ]
  },
  {
   "cell_type": "code",
   "execution_count": 2,
   "id": "4824aacc",
   "metadata": {},
   "outputs": [],
   "source": [
    "from utils.save_data import clean_all_csv_files\n",
    "clean_all_csv_files()"
   ]
  },
  {
   "cell_type": "code",
   "execution_count": null,
   "id": "8073368c",
   "metadata": {},
   "outputs": [
    {
     "name": "stderr",
     "output_type": "stream",
     "text": [
      "2022-05-05 15:22:52.362815: I tensorflow/core/platform/cpu_feature_guard.cc:151] This TensorFlow binary is optimized with oneAPI Deep Neural Network Library (oneDNN) to use the following CPU instructions in performance-critical operations:  AVX2 FMA\n",
      "To enable them in other operations, rebuild TensorFlow with the appropriate compiler flags.\n"
     ]
    },
    {
     "name": "stdout",
     "output_type": "stream",
     "text": [
      "Starting to load dataset....\n",
      "Loaded dataset!\n",
      "1\n",
      "model: CNN_train_set_20000\n",
      "subset_selector: TryAll\n",
      "compatibility_evalutator: Mean_Square_Error\n",
      "delta: SumOfExamples\n",
      "attemps: 20000\n",
      "2\n",
      "model: CNN_train_set_20000\n",
      "subset_selector: TryAll\n",
      "compatibility_evalutator: Mean_Square_Error\n",
      "delta: SumOfExamples\n",
      "attemps: 20000\n",
      "3\n",
      "model: CNN_train_set_20000\n",
      "subset_selector: TryAll\n",
      "compatibility_evalutator: Mean_Square_Error\n",
      "delta: SumOfExamples\n",
      "attemps: 20000\n",
      "4\n",
      "model: CNN_train_set_20000\n",
      "subset_selector: TryAll\n",
      "compatibility_evalutator: Mean_Square_Error\n",
      "delta: SumOfExamples\n",
      "attemps: 20000\n",
      "5\n",
      "model: CNN_train_set_20000\n",
      "subset_selector: TryAll\n",
      "compatibility_evalutator: Mean_Square_Error\n",
      "delta: SumOfExamples\n",
      "attemps: 20000\n",
      "6\n",
      "model: CNN_train_set_20000\n",
      "subset_selector: TryAll\n",
      "compatibility_evalutator: Mean_Square_Error\n",
      "delta: SumOfExamples\n",
      "attemps: 20000\n",
      "Failed to get theoretical best on run 6\n",
      "7\n",
      "model: CNN_train_set_20000\n",
      "subset_selector: TryAll\n",
      "compatibility_evalutator: Mean_Square_Error\n",
      "delta: SumOfExamples\n",
      "attemps: 20000\n",
      "Failed to get theoretical best on run 7\n",
      "8\n",
      "model: CNN_train_set_20000\n",
      "subset_selector: TryAll\n",
      "compatibility_evalutator: Mean_Square_Error\n",
      "delta: SumOfExamples\n",
      "attemps: 20000\n",
      "Failed to get theoretical best on run 8\n",
      "9\n",
      "model: CNN_train_set_20000\n",
      "subset_selector: TryAll\n",
      "compatibility_evalutator: Mean_Square_Error\n",
      "delta: SumOfExamples\n",
      "attemps: 20000\n",
      "Failed to get theoretical best on run 9\n",
      "10\n",
      "model: CNN_train_set_20000\n",
      "subset_selector: TryAll\n",
      "compatibility_evalutator: Mean_Square_Error\n",
      "delta: SumOfExamples\n",
      "attemps: 20000\n",
      "Failed to get theoretical best on run 10\n",
      "11\n",
      "model: CNN_train_set_20000\n",
      "subset_selector: TryAll\n",
      "compatibility_evalutator: Mean_Square_Error\n",
      "delta: SumOfExamples\n",
      "attemps: 20000\n",
      "Failed to get theoretical best on run 11\n",
      "12\n",
      "model: CNN_train_set_20000\n",
      "subset_selector: TryAll\n",
      "compatibility_evalutator: Mean_Square_Error\n",
      "delta: SumOfExamples\n",
      "attemps: 20000\n",
      "Failed to get theoretical best on run 12\n",
      "13\n",
      "model: CNN_train_set_20000\n",
      "subset_selector: TryAll\n",
      "compatibility_evalutator: Mean_Square_Error\n",
      "delta: SumOfExamples\n",
      "attemps: 20000\n",
      "14\n",
      "model: CNN_train_set_20000\n",
      "subset_selector: TryAll\n",
      "compatibility_evalutator: Mean_Square_Error\n",
      "delta: SumOfExamples\n",
      "attemps: 20000\n",
      "15\n",
      "model: CNN_train_set_20000\n",
      "subset_selector: TryAll\n",
      "compatibility_evalutator: Mean_Square_Error\n",
      "delta: SumOfExamples\n",
      "attemps: 20000\n",
      "16\n",
      "model: CNN_train_set_20000\n",
      "subset_selector: TryAll\n",
      "compatibility_evalutator: Mean_Square_Error\n",
      "delta: SumOfExamples\n",
      "attemps: 20000\n",
      "Starting to load dataset....\n",
      "Loaded dataset!\n",
      "1\n",
      "model: CNN_train_set_20000\n",
      "subset_selector: TryAll\n",
      "compatibility_evalutator: Mean_Square_Error\n",
      "delta: SquaredSum\n",
      "attemps: 20000\n"
     ]
    }
   ],
   "source": [
    "\n",
    "from TA.delta.sumOfExamples import SumOfExamples\n",
    "from TA.delta.squaredSum import SquaredSum\n",
    "from TA.delta.absExample import AbsExample\n",
    "from TA.delta.Cardinality import Cardinality\n",
    "from TA.delta.Chunking import Chunking\n",
    "from TA.delta.maxExample import MaxExample\n",
    "from TA.delta.minExample import MinExample\n",
    "\n",
    "different_traning_set_sizes = [100,200,300,400, 500,600,700,800,900, 1000, 1500, 2000, 5000,7500, 20000]\n",
    "deltas = [SumOfExamples(), SquaredSum(),AbsExample(),Chunking(), Cardinality(), MaxExample(), MinExample()]\n",
    "run.main_run_system(re_train=False, clean_data=False, traning_set_size=20000, model_name_CNN=f\"CNN_train_set_20000\", deltas=[deltas[0]])\n",
    "for delta in deltas[1:]:\n",
    "    run.main_run_system(re_train=False, clean_data=False, traning_set_size=20000, model_name_CNN=f\"CNN_train_set_20000\", deltas=[delta])\n",
    "    "
   ]
  },
  {
   "cell_type": "code",
   "execution_count": null,
   "id": "4202129a",
   "metadata": {},
   "outputs": [
    {
     "name": "stdout",
     "output_type": "stream",
     "text": [
      "Generating images using four_places routine...\n"
     ]
    }
   ],
   "source": [
    "import subprocess\n",
    "import fill_dataset\n",
    "data_size = 10000\n",
    "from utils.global_props import set_data_size\n",
    "set_data_size(data_size)\n",
    "fill_dataset.main(fixedSquare=True, rotation=True)\n",
    "print(\"Done!\")"
   ]
  },
  {
   "cell_type": "code",
   "execution_count": 1,
   "id": "905b3a47",
   "metadata": {},
   "outputs": [],
   "source": [
    "data_size = 10000\n",
    "\n",
    "from utils.global_props import set_data_size\n",
    "set_data_size(data_size)"
   ]
  },
  {
   "cell_type": "code",
   "execution_count": null,
   "id": "9332083b",
   "metadata": {},
   "outputs": [],
   "source": [
    "from fill"
   ]
  },
  {
   "cell_type": "code",
   "execution_count": 1,
   "id": "9ea51883",
   "metadata": {},
   "outputs": [],
   "source": [
    "from data import generateLabels\n",
    "generateLabels.run()\n",
    "\n"
   ]
  },
  {
   "cell_type": "code",
   "execution_count": 6,
   "id": "1b047d4f",
   "metadata": {},
   "outputs": [],
   "source": [
    "from models.trainModel import load_model\n",
    "i = 600\n",
    "name = f\"train_set_{i}\"\n",
    "model = load_model(name)\n",
    "\n"
   ]
  },
  {
   "cell_type": "code",
   "execution_count": 23,
   "id": "3c6054eb",
   "metadata": {},
   "outputs": [],
   "source": [
    "from utils.dataset import load_dataset\n",
    "X, y, labels = load_dataset()\n",
    "from utils.common import remove_digit_from_labels\n",
    "labels = remove_digit_from_labels(labels)"
   ]
  },
  {
   "cell_type": "code",
   "execution_count": 24,
   "id": "ad595b82",
   "metadata": {},
   "outputs": [],
   "source": [
    "from TA.Lambda.mean_square_error import MSE\n",
    "mse = MSE()\n",
    "prop_map = mse._get_probaility_map_ai(ai_model=model, valid_X=X, valid_labels=labels)"
   ]
  },
  {
   "cell_type": "code",
   "execution_count": 31,
   "id": "a9a4dbe1",
   "metadata": {},
   "outputs": [
    {
     "name": "stdout",
     "output_type": "stream",
     "text": [
      "'':0.0\n",
      "'A':1.0\n",
      "'B':1.0\n",
      "'C':0.9932735426008968\n",
      "'AB':0.4655408489274304\n",
      "'AC':0.10053619302949061\n",
      "'BC':0.054528650646950096\n",
      "'ABC':0.0013599274705349048\n"
     ]
    }
   ],
   "source": [
    "for elem in prop_map.keys():\n",
    "    print(\"'\"+str(elem) + \"'\" +  \":\" + str(prop_map[elem]))"
   ]
  },
  {
   "cell_type": "code",
   "execution_count": 32,
   "id": "b992b6e9",
   "metadata": {},
   "outputs": [],
   "source": [
    "model_600 = model\n",
    "model_500 = load_model(\"train_set_500\")"
   ]
  },
  {
   "cell_type": "code",
   "execution_count": 33,
   "id": "58b173eb",
   "metadata": {},
   "outputs": [],
   "source": [
    "prop_map_500 = mse._get_probaility_map_ai(ai_model=model_500, valid_X=X, valid_labels=labels)"
   ]
  },
  {
   "cell_type": "code",
   "execution_count": 34,
   "id": "3911c0c6",
   "metadata": {},
   "outputs": [
    {
     "name": "stdout",
     "output_type": "stream",
     "text": [
      "'':0.0\n",
      "'A':1.0\n",
      "'B':1.0\n",
      "'C':0.9932735426008968\n",
      "'AB':0.4655408489274304\n",
      "'AC':0.10053619302949061\n",
      "'BC':0.054528650646950096\n",
      "'ABC':0.0013599274705349048\n"
     ]
    }
   ],
   "source": [
    "for elem in prop_map_500.keys():\n",
    "    print(\"'\"+str(elem) + \"'\" +  \":\" + str(prop_map[elem]))"
   ]
  },
  {
   "cell_type": "code",
   "execution_count": 35,
   "id": "2d25a778",
   "metadata": {},
   "outputs": [],
   "source": [
    "model_200 = load_model(\"train_set_200\")"
   ]
  },
  {
   "cell_type": "code",
   "execution_count": 36,
   "id": "b26a6956",
   "metadata": {},
   "outputs": [],
   "source": [
    "prop_map_200 = mse._get_probaility_map_ai(ai_model=model_200, valid_X=X, valid_labels=labels)"
   ]
  },
  {
   "cell_type": "code",
   "execution_count": 38,
   "id": "8a0f7775",
   "metadata": {},
   "outputs": [],
   "source": [
    "def show(prop_map):\n",
    "    for elem in prop_map.keys():\n",
    "        print(\"'\"+str(elem) + \"'\" +  \":\" + str(prop_map[elem]))"
   ]
  },
  {
   "cell_type": "code",
   "execution_count": 39,
   "id": "1995fbd0",
   "metadata": {},
   "outputs": [
    {
     "name": "stdout",
     "output_type": "stream",
     "text": [
      "'':0.0\n",
      "'A':0.9948074426655128\n",
      "'B':1.0\n",
      "'C':0.8147982062780269\n",
      "'AB':0.6394340483797353\n",
      "'AC':0.4316353887399464\n",
      "'BC':0.3077634011090573\n",
      "'ABC':0.05031731640979148\n"
     ]
    }
   ],
   "source": [
    "show(prop_map_200)"
   ]
  },
  {
   "cell_type": "code",
   "execution_count": 43,
   "id": "5679268d",
   "metadata": {},
   "outputs": [
    {
     "name": "stdout",
     "output_type": "stream",
     "text": [
      "'':0.0\n",
      "'A':1.0\n",
      "'B':1.0\n",
      "'C':0.9690582959641255\n",
      "'AB':0.6768598813327248\n",
      "'AC':0.3315460232350313\n",
      "'BC':0.20517560073937152\n",
      "'ABC':0.010879419764279238\n"
     ]
    }
   ],
   "source": [
    "show(prop_map_500)"
   ]
  },
  {
   "cell_type": "code",
   "execution_count": 42,
   "id": "8d0a1fd2",
   "metadata": {},
   "outputs": [
    {
     "name": "stdout",
     "output_type": "stream",
     "text": [
      "'':0.0\n",
      "'A':1.0\n",
      "'B':1.0\n",
      "'C':0.9932735426008968\n",
      "'AB':0.4655408489274304\n",
      "'AC':0.10053619302949061\n",
      "'BC':0.054528650646950096\n",
      "'ABC':0.0013599274705349048\n"
     ]
    }
   ],
   "source": [
    "show(prop_map_600)"
   ]
  },
  {
   "cell_type": "code",
   "execution_count": 41,
   "id": "3e3da220",
   "metadata": {},
   "outputs": [],
   "source": [
    "prop_map_600 = mse._get_probaility_map_ai(ai_model=model_600, valid_X=X, valid_labels=labels)"
   ]
  },
  {
   "cell_type": "code",
   "execution_count": 44,
   "id": "7f32b8a0",
   "metadata": {},
   "outputs": [],
   "source": [
    "def theoretical_closest(prop_map):\n",
    "    mse = 0\n",
    "    for k in prop_map:\n",
    "        mse += prop_map[k]**2\n",
    "    return mse"
   ]
  },
  {
   "cell_type": "code",
   "execution_count": 46,
   "id": "4fa4fb22",
   "metadata": {},
   "outputs": [
    {
     "name": "stdout",
     "output_type": "stream",
     "text": [
      "3.345973119369467\n",
      "3.549351434370778\n",
      "3.2164033617039736\n"
     ]
    }
   ],
   "source": [
    "for prop_map in [prop_map_200,prop_map_500,prop_map_600]:\n",
    "    print(theoretical_closest(prop_map))"
   ]
  },
  {
   "cell_type": "code",
   "execution_count": 47,
   "id": "cfb22753",
   "metadata": {},
   "outputs": [],
   "source": [
    "def theoretical_closest_v2(prop_map):\n",
    "    mse = 0\n",
    "    for k in prop_map:\n",
    "        mse += prop_map[k]\n",
    "    return mse"
   ]
  },
  {
   "cell_type": "code",
   "execution_count": 49,
   "id": "5b3d101a",
   "metadata": {},
   "outputs": [
    {
     "name": "stdout",
     "output_type": "stream",
     "text": [
      "4.2387558035820705\n",
      "4.193519221035532\n",
      "3.615239162675303\n"
     ]
    }
   ],
   "source": [
    "for prop_map in [prop_map_200,prop_map_500,prop_map_600]:\n",
    "    print(theoretical_closest_v2(prop_map))"
   ]
  },
  {
   "cell_type": "code",
   "execution_count": null,
   "id": "f045399e",
   "metadata": {},
   "outputs": [],
   "source": []
  }
 ],
 "metadata": {
  "kernelspec": {
   "display_name": "Python 3 (ipykernel)",
   "language": "python",
   "name": "python3"
  },
  "language_info": {
   "codemirror_mode": {
    "name": "ipython",
    "version": 3
   },
   "file_extension": ".py",
   "mimetype": "text/x-python",
   "name": "python",
   "nbconvert_exporter": "python",
   "pygments_lexer": "ipython3",
   "version": "3.8.9"
  }
 },
 "nbformat": 4,
 "nbformat_minor": 5
}
