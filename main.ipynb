{
 "cells": [
  {
   "cell_type": "code",
   "execution_count": 1,
   "id": "07951040",
   "metadata": {},
   "outputs": [],
   "source": [
    "CNN_aligment_test_new_10000"
   ]
  },
  {
   "cell_type": "code",
   "execution_count": 2,
   "id": "4824aacc",
   "metadata": {},
   "outputs": [],
   "source": [
    "from utils.save_data import clean_all_csv_files\n",
    "clean_all_csv_files()"
   ]
  },
  {
   "cell_type": "code",
   "execution_count": 4,
   "id": "55301d56",
   "metadata": {},
   "outputs": [
    {
     "name": "stdout",
     "output_type": "stream",
     "text": [
      "CNN_aligment_test_new_100000\n",
      "making the model...\n",
      "Model: \"sequential_1\"\n",
      "_________________________________________________________________\n",
      " Layer (type)                Output Shape              Param #   \n",
      "=================================================================\n",
      " conv2d_3 (Conv2D)           (None, 64, 64, 32)        320       \n",
      "                                                                 \n",
      " leaky_re_lu_5 (LeakyReLU)   (None, 64, 64, 32)        0         \n",
      "                                                                 \n",
      " max_pooling2d_3 (MaxPooling  (None, 32, 32, 32)       0         \n",
      " 2D)                                                             \n",
      "                                                                 \n",
      " dropout_4 (Dropout)         (None, 32, 32, 32)        0         \n",
      "                                                                 \n",
      " conv2d_4 (Conv2D)           (None, 32, 32, 64)        18496     \n",
      "                                                                 \n",
      " leaky_re_lu_6 (LeakyReLU)   (None, 32, 32, 64)        0         \n",
      "                                                                 \n",
      " max_pooling2d_4 (MaxPooling  (None, 16, 16, 64)       0         \n",
      " 2D)                                                             \n",
      "                                                                 \n",
      " dropout_5 (Dropout)         (None, 16, 16, 64)        0         \n",
      "                                                                 \n",
      " conv2d_5 (Conv2D)           (None, 16, 16, 128)       73856     \n",
      "                                                                 \n",
      " leaky_re_lu_7 (LeakyReLU)   (None, 16, 16, 128)       0         \n",
      "                                                                 \n",
      " max_pooling2d_5 (MaxPooling  (None, 8, 8, 128)        0         \n",
      " 2D)                                                             \n",
      "                                                                 \n",
      " dropout_6 (Dropout)         (None, 8, 8, 128)         0         \n",
      "                                                                 \n",
      " flatten_1 (Flatten)         (None, 8192)              0         \n",
      "                                                                 \n",
      " dense_3 (Dense)             (None, 128)               1048704   \n",
      "                                                                 \n",
      " leaky_re_lu_8 (LeakyReLU)   (None, 128)               0         \n",
      "                                                                 \n",
      " dropout_7 (Dropout)         (None, 128)               0         \n",
      "                                                                 \n",
      " dense_4 (Dense)             (None, 128)               16512     \n",
      "                                                                 \n",
      " leaky_re_lu_9 (LeakyReLU)   (None, 128)               0         \n",
      "                                                                 \n",
      " dense_5 (Dense)             (None, 2)                 258       \n",
      "                                                                 \n",
      "=================================================================\n",
      "Total params: 1,158,146\n",
      "Trainable params: 1,158,146\n",
      "Non-trainable params: 0\n",
      "_________________________________________________________________\n",
      "training the model...\n",
      "6000\n",
      "Epoch 1/20\n",
      "188/188 [==============================] - 33s 170ms/step - loss: 1.2180 - accuracy: 0.7640 - val_loss: 0.3316 - val_accuracy: 0.8806\n",
      "Epoch 2/20\n",
      "188/188 [==============================] - 32s 169ms/step - loss: 0.3461 - accuracy: 0.8300 - val_loss: 0.2929 - val_accuracy: 0.8838\n",
      "Epoch 3/20\n",
      "188/188 [==============================] - 34s 179ms/step - loss: 0.3232 - accuracy: 0.8388 - val_loss: 0.2496 - val_accuracy: 0.8737\n",
      "Epoch 4/20\n",
      " 10/188 [>.............................] - ETA: 32s - loss: 0.2808 - accuracy: 0.8625"
     ]
    },
    {
     "ename": "KeyboardInterrupt",
     "evalue": "",
     "output_type": "error",
     "traceback": [
      "\u001b[0;31m---------------------------------------------------------------------------\u001b[0m",
      "\u001b[0;31mKeyboardInterrupt\u001b[0m                         Traceback (most recent call last)",
      "Input \u001b[0;32mIn [4]\u001b[0m, in \u001b[0;36m<module>\u001b[0;34m\u001b[0m\n\u001b[1;32m      4\u001b[0m name \u001b[38;5;241m=\u001b[39m \u001b[38;5;124mf\u001b[39m\u001b[38;5;124m\"\u001b[39m\u001b[38;5;124mCNN_aligment_test_new_\u001b[39m\u001b[38;5;132;01m{\u001b[39;00mi\u001b[38;5;132;01m}\u001b[39;00m\u001b[38;5;124m\"\u001b[39m\n\u001b[1;32m      5\u001b[0m \u001b[38;5;28mprint\u001b[39m(name)\n\u001b[0;32m----> 6\u001b[0m \u001b[43mgenerate_new_model\u001b[49m\u001b[43m(\u001b[49m\u001b[43mconstructor\u001b[49m\u001b[38;5;241;43m=\u001b[39;49m\u001b[43mCNN\u001b[49m\u001b[43m,\u001b[49m\n\u001b[1;32m      7\u001b[0m \u001b[43m                       \u001b[49m\u001b[43mname\u001b[49m\u001b[38;5;241;43m=\u001b[39;49m\u001b[43mname\u001b[49m\u001b[43m,\u001b[49m\u001b[43m \u001b[49m\u001b[43msave\u001b[49m\u001b[38;5;241;43m=\u001b[39;49m\u001b[38;5;28;43;01mTrue\u001b[39;49;00m\u001b[43m,\u001b[49m\u001b[43m \u001b[49m\u001b[43mverbose\u001b[49m\u001b[38;5;241;43m=\u001b[39;49m\u001b[38;5;28;43;01mTrue\u001b[39;49;00m\u001b[43m,\u001b[49m\u001b[43mdata_size_cap\u001b[49m\u001b[38;5;241;43m=\u001b[39;49m\u001b[43mi\u001b[49m\u001b[43m)\u001b[49m\n",
      "File \u001b[0;32m~/UiB/Master/Sem4/ExplainableAI/models/trainModel.py:73\u001b[0m, in \u001b[0;36mrun\u001b[0;34m(constructor, verbose, save, with_data_valid, name, data_size_cap)\u001b[0m\n\u001b[1;32m     71\u001b[0m \u001b[38;5;28mprint\u001b[39m(\u001b[38;5;124m\"\u001b[39m\u001b[38;5;124mtraining the model...\u001b[39m\u001b[38;5;124m\"\u001b[39m)\n\u001b[1;32m     72\u001b[0m epochs \u001b[38;5;241m=\u001b[39m \u001b[38;5;241m20\u001b[39m\n\u001b[0;32m---> 73\u001b[0m history \u001b[38;5;241m=\u001b[39m \u001b[43mmodel\u001b[49m\u001b[38;5;241;43m.\u001b[39;49m\u001b[43mfit_model\u001b[49m\u001b[43m(\u001b[49m\u001b[43mtrain_X\u001b[49m\u001b[43m,\u001b[49m\u001b[43m \u001b[49m\u001b[43mtrain_Y\u001b[49m\u001b[43m,\u001b[49m\u001b[43m \u001b[49m\u001b[43mvalid_X\u001b[49m\u001b[43m,\u001b[49m\u001b[43m \u001b[49m\u001b[43mvalid_Y\u001b[49m\u001b[43m,\u001b[49m\u001b[43m \u001b[49m\u001b[43mepochs\u001b[49m\u001b[43m)\u001b[49m\n\u001b[1;32m     75\u001b[0m \u001b[38;5;28;01mif\u001b[39;00m save:\n\u001b[1;32m     76\u001b[0m     model\u001b[38;5;241m.\u001b[39msave()\n",
      "File \u001b[0;32m~/UiB/Master/Sem4/ExplainableAI/models/abstract_model.py:53\u001b[0m, in \u001b[0;36mAbstractModel.fit_model\u001b[0;34m(self, train_X, train_Y, valid_X, valid_Y, epochs)\u001b[0m\n\u001b[1;32m     48\u001b[0m \u001b[38;5;124;03m\"\"\"\"\u001b[39;00m\n\u001b[1;32m     49\u001b[0m \u001b[38;5;124;03mTrains the model on the given dataset.\u001b[39;00m\n\u001b[1;32m     50\u001b[0m \u001b[38;5;124;03mReturns history of training.\u001b[39;00m\n\u001b[1;32m     51\u001b[0m \u001b[38;5;124;03m\"\"\"\u001b[39;00m\n\u001b[1;32m     52\u001b[0m \u001b[38;5;28mprint\u001b[39m(\u001b[38;5;28mlen\u001b[39m(train_X))\n\u001b[0;32m---> 53\u001b[0m training_history \u001b[38;5;241m=\u001b[39m \u001b[38;5;28;43mself\u001b[39;49m\u001b[38;5;241;43m.\u001b[39;49m\u001b[43mmodel\u001b[49m\u001b[38;5;241;43m.\u001b[39;49m\u001b[43mfit\u001b[49m\u001b[43m(\u001b[49m\n\u001b[1;32m     54\u001b[0m \u001b[43m    \u001b[49m\u001b[43mtrain_X\u001b[49m\u001b[43m,\u001b[49m\u001b[43m \u001b[49m\u001b[43mtrain_Y\u001b[49m\u001b[43m,\u001b[49m\u001b[43m \u001b[49m\u001b[43mepochs\u001b[49m\u001b[38;5;241;43m=\u001b[39;49m\u001b[43mepochs\u001b[49m\u001b[43m,\u001b[49m\u001b[43m \u001b[49m\u001b[43mverbose\u001b[49m\u001b[38;5;241;43m=\u001b[39;49m\u001b[38;5;28;43mself\u001b[39;49m\u001b[38;5;241;43m.\u001b[39;49m\u001b[43mverbose\u001b[49m\u001b[43m,\u001b[49m\u001b[43m \u001b[49m\u001b[43mvalidation_data\u001b[49m\u001b[38;5;241;43m=\u001b[39;49m\u001b[43m(\u001b[49m\u001b[43mvalid_X\u001b[49m\u001b[43m,\u001b[49m\u001b[43m \u001b[49m\u001b[43mvalid_Y\u001b[49m\u001b[43m)\u001b[49m\u001b[43m)\u001b[49m\n\u001b[1;32m     55\u001b[0m \u001b[38;5;28;01mreturn\u001b[39;00m training_history\n",
      "File \u001b[0;32m~/UiB/Master/Sem4/ExplainableAI/venv/lib/python3.8/site-packages/keras/utils/traceback_utils.py:64\u001b[0m, in \u001b[0;36mfilter_traceback.<locals>.error_handler\u001b[0;34m(*args, **kwargs)\u001b[0m\n\u001b[1;32m     62\u001b[0m filtered_tb \u001b[38;5;241m=\u001b[39m \u001b[38;5;28;01mNone\u001b[39;00m\n\u001b[1;32m     63\u001b[0m \u001b[38;5;28;01mtry\u001b[39;00m:\n\u001b[0;32m---> 64\u001b[0m   \u001b[38;5;28;01mreturn\u001b[39;00m \u001b[43mfn\u001b[49m\u001b[43m(\u001b[49m\u001b[38;5;241;43m*\u001b[39;49m\u001b[43margs\u001b[49m\u001b[43m,\u001b[49m\u001b[43m \u001b[49m\u001b[38;5;241;43m*\u001b[39;49m\u001b[38;5;241;43m*\u001b[39;49m\u001b[43mkwargs\u001b[49m\u001b[43m)\u001b[49m\n\u001b[1;32m     65\u001b[0m \u001b[38;5;28;01mexcept\u001b[39;00m \u001b[38;5;167;01mException\u001b[39;00m \u001b[38;5;28;01mas\u001b[39;00m e:  \u001b[38;5;66;03m# pylint: disable=broad-except\u001b[39;00m\n\u001b[1;32m     66\u001b[0m   filtered_tb \u001b[38;5;241m=\u001b[39m _process_traceback_frames(e\u001b[38;5;241m.\u001b[39m__traceback__)\n",
      "File \u001b[0;32m~/UiB/Master/Sem4/ExplainableAI/venv/lib/python3.8/site-packages/keras/engine/training.py:1216\u001b[0m, in \u001b[0;36mModel.fit\u001b[0;34m(self, x, y, batch_size, epochs, verbose, callbacks, validation_split, validation_data, shuffle, class_weight, sample_weight, initial_epoch, steps_per_epoch, validation_steps, validation_batch_size, validation_freq, max_queue_size, workers, use_multiprocessing)\u001b[0m\n\u001b[1;32m   1209\u001b[0m \u001b[38;5;28;01mwith\u001b[39;00m tf\u001b[38;5;241m.\u001b[39mprofiler\u001b[38;5;241m.\u001b[39mexperimental\u001b[38;5;241m.\u001b[39mTrace(\n\u001b[1;32m   1210\u001b[0m     \u001b[38;5;124m'\u001b[39m\u001b[38;5;124mtrain\u001b[39m\u001b[38;5;124m'\u001b[39m,\n\u001b[1;32m   1211\u001b[0m     epoch_num\u001b[38;5;241m=\u001b[39mepoch,\n\u001b[1;32m   1212\u001b[0m     step_num\u001b[38;5;241m=\u001b[39mstep,\n\u001b[1;32m   1213\u001b[0m     batch_size\u001b[38;5;241m=\u001b[39mbatch_size,\n\u001b[1;32m   1214\u001b[0m     _r\u001b[38;5;241m=\u001b[39m\u001b[38;5;241m1\u001b[39m):\n\u001b[1;32m   1215\u001b[0m   callbacks\u001b[38;5;241m.\u001b[39mon_train_batch_begin(step)\n\u001b[0;32m-> 1216\u001b[0m   tmp_logs \u001b[38;5;241m=\u001b[39m \u001b[38;5;28;43mself\u001b[39;49m\u001b[38;5;241;43m.\u001b[39;49m\u001b[43mtrain_function\u001b[49m\u001b[43m(\u001b[49m\u001b[43miterator\u001b[49m\u001b[43m)\u001b[49m\n\u001b[1;32m   1217\u001b[0m   \u001b[38;5;28;01mif\u001b[39;00m data_handler\u001b[38;5;241m.\u001b[39mshould_sync:\n\u001b[1;32m   1218\u001b[0m     context\u001b[38;5;241m.\u001b[39masync_wait()\n",
      "File \u001b[0;32m~/UiB/Master/Sem4/ExplainableAI/venv/lib/python3.8/site-packages/tensorflow/python/util/traceback_utils.py:150\u001b[0m, in \u001b[0;36mfilter_traceback.<locals>.error_handler\u001b[0;34m(*args, **kwargs)\u001b[0m\n\u001b[1;32m    148\u001b[0m filtered_tb \u001b[38;5;241m=\u001b[39m \u001b[38;5;28;01mNone\u001b[39;00m\n\u001b[1;32m    149\u001b[0m \u001b[38;5;28;01mtry\u001b[39;00m:\n\u001b[0;32m--> 150\u001b[0m   \u001b[38;5;28;01mreturn\u001b[39;00m \u001b[43mfn\u001b[49m\u001b[43m(\u001b[49m\u001b[38;5;241;43m*\u001b[39;49m\u001b[43margs\u001b[49m\u001b[43m,\u001b[49m\u001b[43m \u001b[49m\u001b[38;5;241;43m*\u001b[39;49m\u001b[38;5;241;43m*\u001b[39;49m\u001b[43mkwargs\u001b[49m\u001b[43m)\u001b[49m\n\u001b[1;32m    151\u001b[0m \u001b[38;5;28;01mexcept\u001b[39;00m \u001b[38;5;167;01mException\u001b[39;00m \u001b[38;5;28;01mas\u001b[39;00m e:\n\u001b[1;32m    152\u001b[0m   filtered_tb \u001b[38;5;241m=\u001b[39m _process_traceback_frames(e\u001b[38;5;241m.\u001b[39m__traceback__)\n",
      "File \u001b[0;32m~/UiB/Master/Sem4/ExplainableAI/venv/lib/python3.8/site-packages/tensorflow/python/eager/def_function.py:910\u001b[0m, in \u001b[0;36mFunction.__call__\u001b[0;34m(self, *args, **kwds)\u001b[0m\n\u001b[1;32m    907\u001b[0m compiler \u001b[38;5;241m=\u001b[39m \u001b[38;5;124m\"\u001b[39m\u001b[38;5;124mxla\u001b[39m\u001b[38;5;124m\"\u001b[39m \u001b[38;5;28;01mif\u001b[39;00m \u001b[38;5;28mself\u001b[39m\u001b[38;5;241m.\u001b[39m_jit_compile \u001b[38;5;28;01melse\u001b[39;00m \u001b[38;5;124m\"\u001b[39m\u001b[38;5;124mnonXla\u001b[39m\u001b[38;5;124m\"\u001b[39m\n\u001b[1;32m    909\u001b[0m \u001b[38;5;28;01mwith\u001b[39;00m OptionalXlaContext(\u001b[38;5;28mself\u001b[39m\u001b[38;5;241m.\u001b[39m_jit_compile):\n\u001b[0;32m--> 910\u001b[0m   result \u001b[38;5;241m=\u001b[39m \u001b[38;5;28;43mself\u001b[39;49m\u001b[38;5;241;43m.\u001b[39;49m\u001b[43m_call\u001b[49m\u001b[43m(\u001b[49m\u001b[38;5;241;43m*\u001b[39;49m\u001b[43margs\u001b[49m\u001b[43m,\u001b[49m\u001b[43m \u001b[49m\u001b[38;5;241;43m*\u001b[39;49m\u001b[38;5;241;43m*\u001b[39;49m\u001b[43mkwds\u001b[49m\u001b[43m)\u001b[49m\n\u001b[1;32m    912\u001b[0m new_tracing_count \u001b[38;5;241m=\u001b[39m \u001b[38;5;28mself\u001b[39m\u001b[38;5;241m.\u001b[39mexperimental_get_tracing_count()\n\u001b[1;32m    913\u001b[0m without_tracing \u001b[38;5;241m=\u001b[39m (tracing_count \u001b[38;5;241m==\u001b[39m new_tracing_count)\n",
      "File \u001b[0;32m~/UiB/Master/Sem4/ExplainableAI/venv/lib/python3.8/site-packages/tensorflow/python/eager/def_function.py:942\u001b[0m, in \u001b[0;36mFunction._call\u001b[0;34m(self, *args, **kwds)\u001b[0m\n\u001b[1;32m    939\u001b[0m   \u001b[38;5;28mself\u001b[39m\u001b[38;5;241m.\u001b[39m_lock\u001b[38;5;241m.\u001b[39mrelease()\n\u001b[1;32m    940\u001b[0m   \u001b[38;5;66;03m# In this case we have created variables on the first call, so we run the\u001b[39;00m\n\u001b[1;32m    941\u001b[0m   \u001b[38;5;66;03m# defunned version which is guaranteed to never create variables.\u001b[39;00m\n\u001b[0;32m--> 942\u001b[0m   \u001b[38;5;28;01mreturn\u001b[39;00m \u001b[38;5;28;43mself\u001b[39;49m\u001b[38;5;241;43m.\u001b[39;49m\u001b[43m_stateless_fn\u001b[49m\u001b[43m(\u001b[49m\u001b[38;5;241;43m*\u001b[39;49m\u001b[43margs\u001b[49m\u001b[43m,\u001b[49m\u001b[43m \u001b[49m\u001b[38;5;241;43m*\u001b[39;49m\u001b[38;5;241;43m*\u001b[39;49m\u001b[43mkwds\u001b[49m\u001b[43m)\u001b[49m  \u001b[38;5;66;03m# pylint: disable=not-callable\u001b[39;00m\n\u001b[1;32m    943\u001b[0m \u001b[38;5;28;01melif\u001b[39;00m \u001b[38;5;28mself\u001b[39m\u001b[38;5;241m.\u001b[39m_stateful_fn \u001b[38;5;129;01mis\u001b[39;00m \u001b[38;5;129;01mnot\u001b[39;00m \u001b[38;5;28;01mNone\u001b[39;00m:\n\u001b[1;32m    944\u001b[0m   \u001b[38;5;66;03m# Release the lock early so that multiple threads can perform the call\u001b[39;00m\n\u001b[1;32m    945\u001b[0m   \u001b[38;5;66;03m# in parallel.\u001b[39;00m\n\u001b[1;32m    946\u001b[0m   \u001b[38;5;28mself\u001b[39m\u001b[38;5;241m.\u001b[39m_lock\u001b[38;5;241m.\u001b[39mrelease()\n",
      "File \u001b[0;32m~/UiB/Master/Sem4/ExplainableAI/venv/lib/python3.8/site-packages/tensorflow/python/eager/function.py:3130\u001b[0m, in \u001b[0;36mFunction.__call__\u001b[0;34m(self, *args, **kwargs)\u001b[0m\n\u001b[1;32m   3127\u001b[0m \u001b[38;5;28;01mwith\u001b[39;00m \u001b[38;5;28mself\u001b[39m\u001b[38;5;241m.\u001b[39m_lock:\n\u001b[1;32m   3128\u001b[0m   (graph_function,\n\u001b[1;32m   3129\u001b[0m    filtered_flat_args) \u001b[38;5;241m=\u001b[39m \u001b[38;5;28mself\u001b[39m\u001b[38;5;241m.\u001b[39m_maybe_define_function(args, kwargs)\n\u001b[0;32m-> 3130\u001b[0m \u001b[38;5;28;01mreturn\u001b[39;00m \u001b[43mgraph_function\u001b[49m\u001b[38;5;241;43m.\u001b[39;49m\u001b[43m_call_flat\u001b[49m\u001b[43m(\u001b[49m\n\u001b[1;32m   3131\u001b[0m \u001b[43m    \u001b[49m\u001b[43mfiltered_flat_args\u001b[49m\u001b[43m,\u001b[49m\u001b[43m \u001b[49m\u001b[43mcaptured_inputs\u001b[49m\u001b[38;5;241;43m=\u001b[39;49m\u001b[43mgraph_function\u001b[49m\u001b[38;5;241;43m.\u001b[39;49m\u001b[43mcaptured_inputs\u001b[49m\u001b[43m)\u001b[49m\n",
      "File \u001b[0;32m~/UiB/Master/Sem4/ExplainableAI/venv/lib/python3.8/site-packages/tensorflow/python/eager/function.py:1959\u001b[0m, in \u001b[0;36mConcreteFunction._call_flat\u001b[0;34m(self, args, captured_inputs, cancellation_manager)\u001b[0m\n\u001b[1;32m   1955\u001b[0m possible_gradient_type \u001b[38;5;241m=\u001b[39m gradients_util\u001b[38;5;241m.\u001b[39mPossibleTapeGradientTypes(args)\n\u001b[1;32m   1956\u001b[0m \u001b[38;5;28;01mif\u001b[39;00m (possible_gradient_type \u001b[38;5;241m==\u001b[39m gradients_util\u001b[38;5;241m.\u001b[39mPOSSIBLE_GRADIENT_TYPES_NONE\n\u001b[1;32m   1957\u001b[0m     \u001b[38;5;129;01mand\u001b[39;00m executing_eagerly):\n\u001b[1;32m   1958\u001b[0m   \u001b[38;5;66;03m# No tape is watching; skip to running the function.\u001b[39;00m\n\u001b[0;32m-> 1959\u001b[0m   \u001b[38;5;28;01mreturn\u001b[39;00m \u001b[38;5;28mself\u001b[39m\u001b[38;5;241m.\u001b[39m_build_call_outputs(\u001b[38;5;28;43mself\u001b[39;49m\u001b[38;5;241;43m.\u001b[39;49m\u001b[43m_inference_function\u001b[49m\u001b[38;5;241;43m.\u001b[39;49m\u001b[43mcall\u001b[49m\u001b[43m(\u001b[49m\n\u001b[1;32m   1960\u001b[0m \u001b[43m      \u001b[49m\u001b[43mctx\u001b[49m\u001b[43m,\u001b[49m\u001b[43m \u001b[49m\u001b[43margs\u001b[49m\u001b[43m,\u001b[49m\u001b[43m \u001b[49m\u001b[43mcancellation_manager\u001b[49m\u001b[38;5;241;43m=\u001b[39;49m\u001b[43mcancellation_manager\u001b[49m\u001b[43m)\u001b[49m)\n\u001b[1;32m   1961\u001b[0m forward_backward \u001b[38;5;241m=\u001b[39m \u001b[38;5;28mself\u001b[39m\u001b[38;5;241m.\u001b[39m_select_forward_and_backward_functions(\n\u001b[1;32m   1962\u001b[0m     args,\n\u001b[1;32m   1963\u001b[0m     possible_gradient_type,\n\u001b[1;32m   1964\u001b[0m     executing_eagerly)\n\u001b[1;32m   1965\u001b[0m forward_function, args_with_tangents \u001b[38;5;241m=\u001b[39m forward_backward\u001b[38;5;241m.\u001b[39mforward()\n",
      "File \u001b[0;32m~/UiB/Master/Sem4/ExplainableAI/venv/lib/python3.8/site-packages/tensorflow/python/eager/function.py:598\u001b[0m, in \u001b[0;36m_EagerDefinedFunction.call\u001b[0;34m(self, ctx, args, cancellation_manager)\u001b[0m\n\u001b[1;32m    596\u001b[0m \u001b[38;5;28;01mwith\u001b[39;00m _InterpolateFunctionError(\u001b[38;5;28mself\u001b[39m):\n\u001b[1;32m    597\u001b[0m   \u001b[38;5;28;01mif\u001b[39;00m cancellation_manager \u001b[38;5;129;01mis\u001b[39;00m \u001b[38;5;28;01mNone\u001b[39;00m:\n\u001b[0;32m--> 598\u001b[0m     outputs \u001b[38;5;241m=\u001b[39m \u001b[43mexecute\u001b[49m\u001b[38;5;241;43m.\u001b[39;49m\u001b[43mexecute\u001b[49m\u001b[43m(\u001b[49m\n\u001b[1;32m    599\u001b[0m \u001b[43m        \u001b[49m\u001b[38;5;28;43mstr\u001b[39;49m\u001b[43m(\u001b[49m\u001b[38;5;28;43mself\u001b[39;49m\u001b[38;5;241;43m.\u001b[39;49m\u001b[43msignature\u001b[49m\u001b[38;5;241;43m.\u001b[39;49m\u001b[43mname\u001b[49m\u001b[43m)\u001b[49m\u001b[43m,\u001b[49m\n\u001b[1;32m    600\u001b[0m \u001b[43m        \u001b[49m\u001b[43mnum_outputs\u001b[49m\u001b[38;5;241;43m=\u001b[39;49m\u001b[38;5;28;43mself\u001b[39;49m\u001b[38;5;241;43m.\u001b[39;49m\u001b[43m_num_outputs\u001b[49m\u001b[43m,\u001b[49m\n\u001b[1;32m    601\u001b[0m \u001b[43m        \u001b[49m\u001b[43minputs\u001b[49m\u001b[38;5;241;43m=\u001b[39;49m\u001b[43margs\u001b[49m\u001b[43m,\u001b[49m\n\u001b[1;32m    602\u001b[0m \u001b[43m        \u001b[49m\u001b[43mattrs\u001b[49m\u001b[38;5;241;43m=\u001b[39;49m\u001b[43mattrs\u001b[49m\u001b[43m,\u001b[49m\n\u001b[1;32m    603\u001b[0m \u001b[43m        \u001b[49m\u001b[43mctx\u001b[49m\u001b[38;5;241;43m=\u001b[39;49m\u001b[43mctx\u001b[49m\u001b[43m)\u001b[49m\n\u001b[1;32m    604\u001b[0m   \u001b[38;5;28;01melse\u001b[39;00m:\n\u001b[1;32m    605\u001b[0m     outputs \u001b[38;5;241m=\u001b[39m execute\u001b[38;5;241m.\u001b[39mexecute_with_cancellation(\n\u001b[1;32m    606\u001b[0m         \u001b[38;5;28mstr\u001b[39m(\u001b[38;5;28mself\u001b[39m\u001b[38;5;241m.\u001b[39msignature\u001b[38;5;241m.\u001b[39mname),\n\u001b[1;32m    607\u001b[0m         num_outputs\u001b[38;5;241m=\u001b[39m\u001b[38;5;28mself\u001b[39m\u001b[38;5;241m.\u001b[39m_num_outputs,\n\u001b[0;32m   (...)\u001b[0m\n\u001b[1;32m    610\u001b[0m         ctx\u001b[38;5;241m=\u001b[39mctx,\n\u001b[1;32m    611\u001b[0m         cancellation_manager\u001b[38;5;241m=\u001b[39mcancellation_manager)\n",
      "File \u001b[0;32m~/UiB/Master/Sem4/ExplainableAI/venv/lib/python3.8/site-packages/tensorflow/python/eager/execute.py:58\u001b[0m, in \u001b[0;36mquick_execute\u001b[0;34m(op_name, num_outputs, inputs, attrs, ctx, name)\u001b[0m\n\u001b[1;32m     56\u001b[0m \u001b[38;5;28;01mtry\u001b[39;00m:\n\u001b[1;32m     57\u001b[0m   ctx\u001b[38;5;241m.\u001b[39mensure_initialized()\n\u001b[0;32m---> 58\u001b[0m   tensors \u001b[38;5;241m=\u001b[39m \u001b[43mpywrap_tfe\u001b[49m\u001b[38;5;241;43m.\u001b[39;49m\u001b[43mTFE_Py_Execute\u001b[49m\u001b[43m(\u001b[49m\u001b[43mctx\u001b[49m\u001b[38;5;241;43m.\u001b[39;49m\u001b[43m_handle\u001b[49m\u001b[43m,\u001b[49m\u001b[43m \u001b[49m\u001b[43mdevice_name\u001b[49m\u001b[43m,\u001b[49m\u001b[43m \u001b[49m\u001b[43mop_name\u001b[49m\u001b[43m,\u001b[49m\n\u001b[1;32m     59\u001b[0m \u001b[43m                                      \u001b[49m\u001b[43minputs\u001b[49m\u001b[43m,\u001b[49m\u001b[43m \u001b[49m\u001b[43mattrs\u001b[49m\u001b[43m,\u001b[49m\u001b[43m \u001b[49m\u001b[43mnum_outputs\u001b[49m\u001b[43m)\u001b[49m\n\u001b[1;32m     60\u001b[0m \u001b[38;5;28;01mexcept\u001b[39;00m core\u001b[38;5;241m.\u001b[39m_NotOkStatusException \u001b[38;5;28;01mas\u001b[39;00m e:\n\u001b[1;32m     61\u001b[0m   \u001b[38;5;28;01mif\u001b[39;00m name \u001b[38;5;129;01mis\u001b[39;00m \u001b[38;5;129;01mnot\u001b[39;00m \u001b[38;5;28;01mNone\u001b[39;00m:\n",
      "\u001b[0;31mKeyboardInterrupt\u001b[0m: "
     ]
    }
   ],
   "source": [
    "from models.trainModel import run as generate_new_model\n",
    "from models.CNN.CNNmodel import CNN\n",
    "for i in [10000]:\n",
    "    name = f\"CNN_aligment_test_new_{i}\"\n",
    "    print(name)\n",
    "    generate_new_model(constructor=CNN,\n",
    "                           name=name, save=True, verbose=True,data_size_cap=i)"
   ]
  },
  {
   "cell_type": "code",
   "execution_count": 5,
   "id": "35a6ff2c",
   "metadata": {},
   "outputs": [
    {
     "name": "stdout",
     "output_type": "stream",
     "text": [
      "model: CNN_aligment_test_new_10000\n",
      "subset_selector: TryAll\n",
      "compatibility_evalutator: Mean_Square_Error\n",
      "delta: SquaredSum\n",
      "attemps: 1000000\n",
      "early return at 21 1\n",
      "model: CNN_aligment_test_new_10000\n",
      "subset_selector: TryAll\n",
      "compatibility_evalutator: Mean_Square_Error\n",
      "delta: SquaredSum\n",
      "attemps: 1000000\n",
      "early return at 205 2\n",
      "model: CNN_aligment_test_new_10000\n",
      "subset_selector: TryAll\n",
      "compatibility_evalutator: Mean_Square_Error\n",
      "delta: SquaredSum\n",
      "attemps: 1000000\n",
      "early return at 1235 3\n",
      "model: CNN_aligment_test_new_10000\n",
      "subset_selector: TryAll\n",
      "compatibility_evalutator: Mean_Square_Error\n",
      "delta: SquaredSum\n",
      "attemps: 1000000\n",
      "early return at 5140 4\n",
      "model: CNN_aligment_test_new_10000\n",
      "subset_selector: TryAll\n",
      "compatibility_evalutator: Mean_Square_Error\n",
      "delta: SquaredSum\n",
      "attemps: 1000000\n",
      "early return at 15674 5\n",
      "model: CNN_aligment_test_new_10000\n",
      "subset_selector: TryAll\n",
      "compatibility_evalutator: Mean_Square_Error\n",
      "delta: SquaredSum\n",
      "attemps: 1000000\n",
      "early return at 36234 6\n",
      "model: CNN_aligment_test_new_10000\n",
      "subset_selector: TryAll\n",
      "compatibility_evalutator: Mean_Square_Error\n",
      "delta: SquaredSum\n",
      "attemps: 1000000\n",
      "early return at 64790 7\n",
      "model: CNN_aligment_test_new_10000\n",
      "subset_selector: TryAll\n",
      "compatibility_evalutator: Mean_Square_Error\n",
      "delta: SquaredSum\n",
      "attemps: 1000000\n",
      "early return at 90585 8\n",
      "model: CNN_aligment_test_new_10000\n",
      "subset_selector: TryAll\n",
      "compatibility_evalutator: Mean_Square_Error\n",
      "delta: SquaredSum\n",
      "attemps: 1000000\n",
      "early return at 99385 9\n",
      "model: CNN_aligment_test_new_10000\n",
      "subset_selector: TryAll\n",
      "compatibility_evalutator: Mean_Square_Error\n",
      "delta: SquaredSum\n",
      "attemps: 1000000\n",
      "early return at 85305 10\n",
      "model: CNN_aligment_test_new_10000\n",
      "subset_selector: TryAll\n",
      "compatibility_evalutator: Mean_Square_Error\n",
      "delta: SquaredSum\n",
      "attemps: 1000000\n",
      "early return at 56695 11\n",
      "model: CNN_aligment_test_new_10000\n",
      "subset_selector: TryAll\n",
      "compatibility_evalutator: Mean_Square_Error\n",
      "delta: SquaredSum\n",
      "attemps: 1000000\n",
      "early return at 28610 12\n",
      "model: CNN_aligment_test_new_10000\n",
      "subset_selector: TryAll\n",
      "compatibility_evalutator: Mean_Square_Error\n",
      "delta: SquaredSum\n",
      "attemps: 1000000\n",
      "early return at 10600 13\n",
      "model: CNN_aligment_test_new_10000\n",
      "subset_selector: TryAll\n",
      "compatibility_evalutator: Mean_Square_Error\n",
      "delta: SquaredSum\n",
      "attemps: 1000000\n",
      "early return at 2720 14\n",
      "model: CNN_aligment_test_new_10000\n",
      "subset_selector: TryAll\n",
      "compatibility_evalutator: Mean_Square_Error\n",
      "delta: SquaredSum\n",
      "attemps: 1000000\n",
      "early return at 432 15\n",
      "model: CNN_aligment_test_new_10000\n",
      "subset_selector: TryAll\n",
      "compatibility_evalutator: Mean_Square_Error\n",
      "delta: SquaredSum\n",
      "attemps: 1000000\n",
      "early return at 32 16\n"
     ]
    }
   ],
   "source": [
    "import run\n",
    "\n",
    "from TA.subset.try_all import TryAll\n",
    "from TA.subset.random_w_hash import RandomWHashSelect\n",
    "from TA.subset.random_select import RandomSelect\n",
    "from TA.delta.squaredSum import SquaredSum\n",
    "from models.trainModel import load_model\n",
    "import time\n",
    "\n",
    "from utils.global_props import set_e, set_B, set_mu\n",
    "\n",
    "sampling_attempts = [1000000]\n",
    "ai_models = list(map(lambda x: load_model(f\"CNN_aligment_test_new_{x}\"), [10000]))\n",
    "deltas = [SquaredSum()]\n",
    "sub_set_selectors = [TryAll()]\n",
    "\n",
    "#different_e_values = range(25,0,-1)\n",
    "#different_B_values = list(range(0,9))\n",
    "mu = 100\n",
    "set_mu(mu)\n",
    "\n",
    "\"\"\"\n",
    "for B in different_B_values:\n",
    "set_B(B)\n",
    "for e in different_e_values:\n",
    "set_e(e)\n",
    "\"\"\"\n",
    "\n",
    "\n",
    "\n",
    "for selector in sub_set_selectors:\n",
    "    for size in sampling_attempts:\n",
    "        for ai in ai_models:\n",
    "            run.main_run_system(re_train=False,clean_data=False, deltas=deltas, ai_models=[ai], differentNrAttempts=[size],subset_selectors=[selector], verbose=True)\n"
   ]
  },
  {
   "cell_type": "code",
   "execution_count": null,
   "id": "4202129a",
   "metadata": {},
   "outputs": [],
   "source": []
  },
  {
   "cell_type": "code",
   "execution_count": 10,
   "id": "905b3a47",
   "metadata": {},
   "outputs": [],
   "source": [
    "from utils.dataset import load_dataset\n",
    "from utils.common import remove_digit_from_labels\n",
    "from TA.Lambda.mean_square_error import MSE\n",
    "from models.trainModel import load_model\n",
    "import random\n",
    "def sub_sample_test(valid_X, valid_labels, sample_size):\n",
    "    all_data_zip = []\n",
    "    for i in range(len(valid_labels)):\n",
    "        all_data_zip.append((valid_X[i], valid_labels[i]))\n",
    "\n",
    "    picks = random.sample(all_data_zip, sample_size)\n",
    "\n",
    "    valid_X, valid_labels = zip(*picks)\n",
    "    return valid_X, valid_labels\n",
    "\n",
    "def prop_map_display(name):\n",
    "    model = load_model(name)\n",
    "    X, y, labels = load_dataset()\n",
    "    labels = remove_digit_from_labels(labels)\n",
    "    mse = MSE()\n",
    "    prop_map = mse._get_probaility_map_ai(ai_model=model, valid_X=X, valid_labels=labels)\n",
    "    for elem in prop_map.keys():\n",
    "        print(elem,str(prop_map[elem]*100).replace(\".\",\",\"))"
   ]
  },
  {
   "cell_type": "code",
   "execution_count": 11,
   "id": "9332083b",
   "metadata": {},
   "outputs": [
    {
     "name": "stdout",
     "output_type": "stream",
     "text": [
      "########## CNN_aligment_test_new_10000 ##########\n",
      " 0,0\n",
      "A 0,0\n",
      "B 0,0\n",
      "C 0,0\n",
      "D 0,0\n",
      "AB 100,0\n",
      "AC 0,0\n",
      "AD 0,6837606837606838\n",
      "BC 0,45801526717557256\n",
      "BD 0,30303030303030304\n",
      "CD 100,0\n",
      "ABC 100,0\n",
      "ABD 100,0\n",
      "ACD 99,68652037617555\n",
      "BCD 99,83471074380165\n",
      "ABCD 100,0\n"
     ]
    }
   ],
   "source": [
    "i = [10,50,100,500,1000,2000,5000,10000,50000]\n",
    "names = [\"CNN_aligment_test_new_10000\"]\n",
    "for name in names:\n",
    "    print(\"#\"*10,name,\"#\"*10)\n",
    "    prop_map_display(name) "
   ]
  },
  {
   "cell_type": "code",
   "execution_count": 10,
   "id": "9ea51883",
   "metadata": {},
   "outputs": [
    {
     "name": "stdout",
     "output_type": "stream",
     "text": [
      "########## CNN_aligment_test_50000 ##########\n",
      "0,0\n",
      "0,0\n",
      "0,0\n",
      "99,69725940089229\n",
      "97,99702036086741\n",
      "99,25866236905722\n",
      "99,25290096963917\n",
      "100,0\n"
     ]
    }
   ],
   "source": [
    "i = [50000]\n",
    "names = list(map(lambda x: f\"CNN_aligment_test_{x}\", i))\n",
    "for name in names:\n",
    "    print(\"#\"*10,name,\"#\"*10)\n",
    "    prop_map_display(name) "
   ]
  },
  {
   "cell_type": "code",
   "execution_count": 23,
   "id": "1b047d4f",
   "metadata": {},
   "outputs": [
    {
     "name": "stdout",
     "output_type": "stream",
     "text": [
      "########## CNN_aligment_test_1250 ##########\n",
      "0,0\n",
      "0,641025641025641\n",
      "1,2464046021093003\n",
      "21,547502448579824\n",
      "30,125523012552303\n",
      "50,10615711252654\n",
      "46,09450337512054\n",
      "89,60155490767735\n"
     ]
    }
   ],
   "source": [
    "i = [1250]\n",
    "names = list(map(lambda x: f\"CNN_aligment_test_{x}\", i))\n",
    "for name in names:\n",
    "    print(\"#\"*10,name,\"#\"*10)\n",
    "    prop_map_display(name) "
   ]
  },
  {
   "cell_type": "code",
   "execution_count": 5,
   "id": "3c6054eb",
   "metadata": {},
   "outputs": [],
   "source": [
    "from utils.dataset import load_dataset\n",
    "X, y, labels = load_dataset()\n",
    "from utils.common import remove_digit_from_labels\n",
    "labels = remove_digit_from_labels(labels)"
   ]
  },
  {
   "cell_type": "code",
   "execution_count": 6,
   "id": "ad595b82",
   "metadata": {},
   "outputs": [],
   "source": [
    "mse = MSE()\n",
    "prop_map = mse._get_probaility_map_ai(ai_model=model, valid_X=X, valid_labels=labels)"
   ]
  },
  {
   "cell_type": "code",
   "execution_count": 7,
   "id": "a9a4dbe1",
   "metadata": {},
   "outputs": [
    {
     "name": "stdout",
     "output_type": "stream",
     "text": [
      "'':0.0\n",
      "'A':0.0\n",
      "'B':0.0\n",
      "'C':0.0\n",
      "'D':0.0\n",
      "'AB':0.8035714285714286\n",
      "'AC':0.10294117647058823\n",
      "'AD':0.21666666666666667\n",
      "'BC':0.07575757575757576\n",
      "'BD':0.09615384615384616\n",
      "'CD':0.7435897435897436\n",
      "'ABC':0.9880952380952381\n",
      "'ABD':0.9016393442622951\n",
      "'ACD':0.9841269841269841\n",
      "'BCD':0.9827586206896551\n",
      "'ABCD':0.9850746268656716\n"
     ]
    }
   ],
   "source": [
    "for elem in prop_map.keys():\n",
    "    print(\"'\"+str(elem) + \"'\" +  \":\" + str(prop_map[elem]))"
   ]
  },
  {
   "cell_type": "code",
   "execution_count": 32,
   "id": "b992b6e9",
   "metadata": {},
   "outputs": [],
   "source": [
    "model_600 = model\n",
    "model_500 = load_model(\"train_set_500\")"
   ]
  },
  {
   "cell_type": "code",
   "execution_count": 33,
   "id": "58b173eb",
   "metadata": {},
   "outputs": [],
   "source": [
    "prop_map_500 = mse._get_probaility_map_ai(ai_model=model_500, valid_X=X, valid_labels=labels)"
   ]
  },
  {
   "cell_type": "code",
   "execution_count": 34,
   "id": "3911c0c6",
   "metadata": {},
   "outputs": [
    {
     "name": "stdout",
     "output_type": "stream",
     "text": [
      "'':0.0\n",
      "'A':1.0\n",
      "'B':1.0\n",
      "'C':0.9932735426008968\n",
      "'AB':0.4655408489274304\n",
      "'AC':0.10053619302949061\n",
      "'BC':0.054528650646950096\n",
      "'ABC':0.0013599274705349048\n"
     ]
    }
   ],
   "source": [
    "for elem in prop_map_500.keys():\n",
    "    print(\"'\"+str(elem) + \"'\" +  \":\" + str(prop_map[elem]))"
   ]
  },
  {
   "cell_type": "code",
   "execution_count": 35,
   "id": "2d25a778",
   "metadata": {},
   "outputs": [],
   "source": [
    "model_200 = load_model(\"train_set_200\")"
   ]
  },
  {
   "cell_type": "code",
   "execution_count": 36,
   "id": "b26a6956",
   "metadata": {},
   "outputs": [],
   "source": [
    "prop_map_200 = mse._get_probaility_map_ai(ai_model=model_200, valid_X=X, valid_labels=labels)"
   ]
  },
  {
   "cell_type": "code",
   "execution_count": 38,
   "id": "8a0f7775",
   "metadata": {},
   "outputs": [],
   "source": [
    "def show(prop_map):\n",
    "    for elem in prop_map.keys():\n",
    "        print(\"'\"+str(elem) + \"'\" +  \":\" + str(prop_map[elem]))"
   ]
  },
  {
   "cell_type": "code",
   "execution_count": 39,
   "id": "1995fbd0",
   "metadata": {},
   "outputs": [
    {
     "name": "stdout",
     "output_type": "stream",
     "text": [
      "'':0.0\n",
      "'A':0.9948074426655128\n",
      "'B':1.0\n",
      "'C':0.8147982062780269\n",
      "'AB':0.6394340483797353\n",
      "'AC':0.4316353887399464\n",
      "'BC':0.3077634011090573\n",
      "'ABC':0.05031731640979148\n"
     ]
    }
   ],
   "source": [
    "show(prop_map_200)"
   ]
  },
  {
   "cell_type": "code",
   "execution_count": 43,
   "id": "5679268d",
   "metadata": {},
   "outputs": [
    {
     "name": "stdout",
     "output_type": "stream",
     "text": [
      "'':0.0\n",
      "'A':1.0\n",
      "'B':1.0\n",
      "'C':0.9690582959641255\n",
      "'AB':0.6768598813327248\n",
      "'AC':0.3315460232350313\n",
      "'BC':0.20517560073937152\n",
      "'ABC':0.010879419764279238\n"
     ]
    }
   ],
   "source": [
    "show(prop_map_500)"
   ]
  },
  {
   "cell_type": "code",
   "execution_count": 42,
   "id": "8d0a1fd2",
   "metadata": {},
   "outputs": [
    {
     "name": "stdout",
     "output_type": "stream",
     "text": [
      "'':0.0\n",
      "'A':1.0\n",
      "'B':1.0\n",
      "'C':0.9932735426008968\n",
      "'AB':0.4655408489274304\n",
      "'AC':0.10053619302949061\n",
      "'BC':0.054528650646950096\n",
      "'ABC':0.0013599274705349048\n"
     ]
    }
   ],
   "source": [
    "show(prop_map_600)"
   ]
  },
  {
   "cell_type": "code",
   "execution_count": 41,
   "id": "3e3da220",
   "metadata": {},
   "outputs": [],
   "source": [
    "prop_map_600 = mse._get_probaility_map_ai(ai_model=model_600, valid_X=X, valid_labels=labels)"
   ]
  },
  {
   "cell_type": "code",
   "execution_count": 44,
   "id": "7f32b8a0",
   "metadata": {},
   "outputs": [],
   "source": [
    "def theoretical_closest(prop_map):\n",
    "    mse = 0\n",
    "    for k in prop_map:\n",
    "        mse += prop_map[k]**2\n",
    "    return mse"
   ]
  },
  {
   "cell_type": "code",
   "execution_count": 46,
   "id": "4fa4fb22",
   "metadata": {},
   "outputs": [
    {
     "name": "stdout",
     "output_type": "stream",
     "text": [
      "3.345973119369467\n",
      "3.549351434370778\n",
      "3.2164033617039736\n"
     ]
    }
   ],
   "source": [
    "for prop_map in [prop_map_200,prop_map_500,prop_map_600]:\n",
    "    print(theoretical_closest(prop_map))"
   ]
  },
  {
   "cell_type": "code",
   "execution_count": 47,
   "id": "cfb22753",
   "metadata": {},
   "outputs": [],
   "source": [
    "def theoretical_closest_v2(prop_map):\n",
    "    mse = 0\n",
    "    for k in prop_map:\n",
    "        mse += prop_map[k]\n",
    "    return mse"
   ]
  },
  {
   "cell_type": "code",
   "execution_count": 49,
   "id": "5b3d101a",
   "metadata": {},
   "outputs": [
    {
     "name": "stdout",
     "output_type": "stream",
     "text": [
      "4.2387558035820705\n",
      "4.193519221035532\n",
      "3.615239162675303\n"
     ]
    }
   ],
   "source": [
    "for prop_map in [prop_map_200,prop_map_500,prop_map_600]:\n",
    "    print(theoretical_closest_v2(prop_map))"
   ]
  }
 ],
 "metadata": {
  "kernelspec": {
   "display_name": "Python 3 (ipykernel)",
   "language": "python",
   "name": "python3"
  },
  "language_info": {
   "codemirror_mode": {
    "name": "ipython",
    "version": 3
   },
   "file_extension": ".py",
   "mimetype": "text/x-python",
   "name": "python",
   "nbconvert_exporter": "python",
   "pygments_lexer": "ipython3",
   "version": "3.8.9"
  }
 },
 "nbformat": 4,
 "nbformat_minor": 5
}
