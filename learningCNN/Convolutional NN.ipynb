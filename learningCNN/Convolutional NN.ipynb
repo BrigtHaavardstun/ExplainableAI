{
 "cells": [
  {
   "cell_type": "code",
   "execution_count": 1,
   "id": "d98f7db8",
   "metadata": {},
   "outputs": [],
   "source": [
    " import os\n",
    "os.environ['TF_CPP_MIN_LOG_LEVEL'] = '2'"
   ]
  },
  {
   "cell_type": "code",
   "execution_count": 95,
   "id": "7b3dec8b",
   "metadata": {},
   "outputs": [],
   "source": [
    "import keras\n",
    "from keras.models import Sequential,Input,Model\n",
    "from keras.layers import Dense, Dropout, Flatten\n",
    "from keras.layers import Conv2D, MaxPooling2D\n",
    "#from keras.layers.normalization import BatchNormalization\n",
    "from keras.layers.advanced_activations import LeakyReLU\n",
    "from keras.optimizers import adam_v2\n",
    "from matplotlib.pyplot import get\n",
    "\n",
    "\n",
    "num_classes = 10\n",
    "\n",
    "\n",
    "fashion_model = Sequential()\n",
    "fashion_model.add(Conv2D(32, kernel_size=(3, 3),activation='linear',padding='same',input_shape=(28,28,1)))\n",
    "fashion_model.add(LeakyReLU(alpha=0.1))\n",
    "fashion_model.add(MaxPooling2D((2, 2),padding='same'))\n",
    "fashion_model.add(Dropout(0.25))\n",
    "fashion_model.add(Conv2D(64, (3, 3), activation='linear',padding='same'))\n",
    "fashion_model.add(LeakyReLU(alpha=0.1))\n",
    "fashion_model.add(MaxPooling2D(pool_size=(2, 2),padding='same'))\n",
    "fashion_model.add(Dropout(0.25))\n",
    "fashion_model.add(Conv2D(128, (3, 3), activation='linear',padding='same'))\n",
    "fashion_model.add(LeakyReLU(alpha=0.1))                  \n",
    "fashion_model.add(MaxPooling2D(pool_size=(2, 2),padding='same'))\n",
    "fashion_model.add(Dropout(0.4))\n",
    "fashion_model.add(Flatten())\n",
    "fashion_model.add(Dense(128, activation='linear'))\n",
    "fashion_model.add(LeakyReLU(alpha=0.1))           \n",
    "fashion_model.add(Dropout(0.3))\n",
    "fashion_model.add(Dense(num_classes, activation='softmax'))\n",
    "\n",
    "#fashion_model.summary()\n",
    "\n"
   ]
  },
  {
   "cell_type": "markdown",
   "id": "e8adf34f",
   "metadata": {},
   "source": [
    "# Generate data\n",
    "## Format\n",
    "train_X,train_Y,test_X,test_Y, valid_X, valid_Y "
   ]
  },
  {
   "cell_type": "code",
   "execution_count": 96,
   "id": "6f33ad4c",
   "metadata": {},
   "outputs": [],
   "source": [
    "import numpy as np\n",
    "from tensorflow.keras.utils import  to_categorical\n",
    "import matplotlib.pyplot as plt\n",
    "from sklearn.model_selection import train_test_split\n",
    "\n",
    "from keras.datasets import fashion_mnist\n",
    "\n",
    "def get_data():\n",
    "    (train_X,train_Y), (test_X,test_Y) = fashion_mnist.load_data()\n",
    "    train_X = train_X.reshape(-1, 28,28, 1)\n",
    "    test_X = test_X.reshape(-1, 28,28, 1)\n",
    "\n",
    "    # We want to force values to be in range [0,1]\n",
    "    train_X = train_X.astype('float32')\n",
    "    test_X = test_X.astype('float32')\n",
    "    train_X = train_X / 255.\n",
    "    test_X = test_X / 255.\n",
    "\n",
    "    # Change the labels from categorical to one-hot encoding\n",
    "    train_Y_one_hot = to_categorical(train_Y)\n",
    "    test_Y = to_categorical(test_Y)\n",
    "    \n",
    "    train_X, valid_X,train_Y,valid_Y = train_test_split(train_X, train_Y_one_hot, test_size=0.2, random_state=13)\n",
    "    return train_X,train_Y,test_X,test_Y, valid_X, valid_Y\n",
    "\n",
    "\n",
    "\n",
    "train_X,train_Y,test_X,test_Y, valid_X, valid_Y = get_data()"
   ]
  },
  {
   "cell_type": "markdown",
   "id": "cb6c19fb",
   "metadata": {},
   "source": [
    "## Compile model"
   ]
  },
  {
   "cell_type": "code",
   "execution_count": 97,
   "id": "f1d8e881",
   "metadata": {
    "scrolled": true
   },
   "outputs": [],
   "source": [
    "\n",
    "fashion_model.compile(loss=keras.losses.categorical_crossentropy, optimizer=keras.optimizers.adam_v2.Adam(),metrics=['accuracy'])\n",
    "#fashion_model.summary()\n",
    "\n"
   ]
  },
  {
   "cell_type": "markdown",
   "id": "9ab29efc",
   "metadata": {},
   "source": [
    "# Train the model booooois!"
   ]
  },
  {
   "cell_type": "code",
   "execution_count": 98,
   "id": "9d9deb6a",
   "metadata": {},
   "outputs": [
    {
     "name": "stdout",
     "output_type": "stream",
     "text": [
      "Epoch 1/10\n",
      "750/750 [==============================] - 52s 69ms/step - loss: 0.5961 - accuracy: 0.7778 - val_loss: 0.3704 - val_accuracy: 0.8647\n",
      "Epoch 2/10\n",
      "750/750 [==============================] - 52s 69ms/step - loss: 0.3774 - accuracy: 0.8613 - val_loss: 0.3001 - val_accuracy: 0.8867\n",
      "Epoch 3/10\n",
      "750/750 [==============================] - 53s 70ms/step - loss: 0.3271 - accuracy: 0.8800 - val_loss: 0.2744 - val_accuracy: 0.8992\n",
      "Epoch 4/10\n",
      "750/750 [==============================] - 53s 70ms/step - loss: 0.2981 - accuracy: 0.8884 - val_loss: 0.2552 - val_accuracy: 0.9059\n",
      "Epoch 5/10\n",
      "750/750 [==============================] - 53s 70ms/step - loss: 0.2791 - accuracy: 0.8951 - val_loss: 0.2700 - val_accuracy: 0.8997\n",
      "Epoch 6/10\n",
      "750/750 [==============================] - 54s 72ms/step - loss: 0.2665 - accuracy: 0.9009 - val_loss: 0.2449 - val_accuracy: 0.9105\n",
      "Epoch 7/10\n",
      "750/750 [==============================] - 54s 72ms/step - loss: 0.2561 - accuracy: 0.9051 - val_loss: 0.2465 - val_accuracy: 0.9094\n",
      "Epoch 8/10\n",
      "750/750 [==============================] - 56s 74ms/step - loss: 0.2463 - accuracy: 0.9100 - val_loss: 0.2324 - val_accuracy: 0.9161\n",
      "Epoch 9/10\n",
      "750/750 [==============================] - 53s 70ms/step - loss: 0.2413 - accuracy: 0.9102 - val_loss: 0.2267 - val_accuracy: 0.9179\n",
      "Epoch 10/10\n",
      "750/750 [==============================] - 53s 71ms/step - loss: 0.2309 - accuracy: 0.9135 - val_loss: 0.2281 - val_accuracy: 0.9181\n",
      "Test loss: 0.24164323508739471\n",
      "Test accuracy: 0.9107999801635742\n"
     ]
    }
   ],
   "source": [
    "\n",
    "batch_size = 64\n",
    "epochs = 10\n",
    "fashion_train = fashion_model.fit(train_X, train_Y, batch_size=batch_size,epochs=epochs,verbose=1,validation_data=(valid_X, valid_Y))\n",
    "\n",
    "test_eval = fashion_model.evaluate(test_X, test_Y, verbose=0)\n",
    "print('Test loss:', test_eval[0])\n",
    "print('Test accuracy:', test_eval[1])"
   ]
  },
  {
   "cell_type": "code",
   "execution_count": 99,
   "id": "c80d2a8f",
   "metadata": {},
   "outputs": [
    {
     "name": "stdout",
     "output_type": "stream",
     "text": [
      "INFO:tensorflow:Assets written to: fashion_model_dropout.h5py/assets\n"
     ]
    }
   ],
   "source": [
    "fashion_model.save(\"fashion_model_dropout.h5py\")"
   ]
  },
  {
   "cell_type": "code",
   "execution_count": 100,
   "id": "7ee2b2f9",
   "metadata": {
    "scrolled": true
   },
   "outputs": [
    {
     "data": {
      "image/png": "[encoded data removed]",
      "text/plain": [
       "<Figure size 432x288 with 1 Axes>"
      ]
     },
     "metadata": {
      "needs_background": "light"
     },
     "output_type": "display_data"
    },
    {
     "data": {
      "image/png": "[encoded data removed]",
      "text/plain": [
       "<Figure size 432x288 with 1 Axes>"
      ]
     },
     "metadata": {
      "needs_background": "light"
     },
     "output_type": "display_data"
    }
   ],
   "source": [
    "accuracy = fashion_train.history['accuracy']\n",
    "val_accuracy = fashion_train.history['val_accuracy']\n",
    "loss = fashion_train.history['loss']\n",
    "val_loss = fashion_train.history['val_loss']\n",
    "epochs = range(len(accuracy))\n",
    "plt.plot(epochs, accuracy, 'bo', label='Training accuracy')\n",
    "plt.plot(epochs, val_accuracy, 'b', label='Validation accuracy')\n",
    "plt.title('Training and validation accuracy')\n",
    "plt.legend()\n",
    "plt.figure()\n",
    "plt.plot(epochs, loss, 'bo', label='Training loss')\n",
    "plt.plot(epochs, val_loss, 'b', label='Validation loss')\n",
    "plt.title('Training and validation loss')\n",
    "plt.legend()\n",
    "plt.show()"
   ]
  },
  {
   "cell_type": "code",
   "execution_count": 87,
   "id": "3d193d81",
   "metadata": {},
   "outputs": [
    {
     "name": "stdout",
     "output_type": "stream",
     "text": [
      "INFO:tensorflow:Assets written to: fashion_model_dropout.h5py/assets\n"
     ]
    }
   ],
   "source": []
  },
  {
   "cell_type": "code",
   "execution_count": 101,
   "id": "b2b2efc4",
   "metadata": {},
   "outputs": [
    {
     "name": "stdout",
     "output_type": "stream",
     "text": [
      "313/313 [==============================] - 3s 9ms/step - loss: 0.2416 - accuracy: 0.9108\n"
     ]
    }
   ],
   "source": [
    "test_eval = fashion_model.evaluate(test_X, test_Y, verbose=1)\n"
   ]
  },
  {
   "cell_type": "code",
   "execution_count": 102,
   "id": "038a339d",
   "metadata": {},
   "outputs": [],
   "source": [
    "predicted_classes = fashion_model.predict(test_X)\n",
    "predicted_classes = np.argmax(np.round(predicted_classes),axis=1)"
   ]
  },
  {
   "cell_type": "code",
   "execution_count": null,
   "id": "d37de73c",
   "metadata": {},
   "outputs": [],
   "source": []
  }
 ],
 "metadata": {
  "kernelspec": {
   "display_name": "Python 3 (ipykernel)",
   "language": "python",
   "name": "python3"
  },
  "language_info": {
   "codemirror_mode": {
    "name": "ipython",
    "version": 3
   },
   "file_extension": ".py",
   "mimetype": "text/x-python",
   "name": "python",
   "nbconvert_exporter": "python",
   "pygments_lexer": "ipython3",
   "version": "3.8.9"
  }
 },
 "nbformat": 4,
 "nbformat_minor": 5
}
