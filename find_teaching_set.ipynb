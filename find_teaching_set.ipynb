{
 "cells": [
  {
   "cell_type": "code",
   "execution_count": 1,
   "id": "0b29e469",
   "metadata": {},
   "outputs": [],
   "source": [
    "from models.trainModel import load_model\n",
    "from utils.dataset import load_dataset\n",
    "from utils.common import remove_digit_from_labels, one_hot_to_number\n",
    "from PIL import Image\n",
    "\n",
    "\n",
    "def get_images(teaching_set, ai):\n",
    "    images = []\n",
    "    X,Y,labels = load_dataset()  \n",
    "    found = []\n",
    "    title = []\n",
    "    for example in teaching_set:\n",
    "        example_label, value = example\n",
    "        found = False\n",
    "        for i in range(len(X)-1,0,-1):\n",
    "            corr_label = \"\".join(remove_digit_from_labels(labels[i]))\n",
    "            \n",
    "            if corr_label == example_label:\n",
    "                if one_hot_to_number(ai.predict(X[i]))== value:\n",
    "                    images.append(Image.fromarray(X[i]))\n",
    "                    title.append(value)\n",
    "                    found= True\n",
    "                    break\n",
    "        if not found:\n",
    "            print(\"Could not find a data instance with the combination of: \", example_label, value)\n",
    "    for img,title in zip(images,title):\n",
    "        img.show(title=title)\n",
    "    return images"
   ]
  },
  {
   "cell_type": "code",
   "execution_count": 2,
   "id": "a93e5bcc",
   "metadata": {},
   "outputs": [],
   "source": [
    "from utils.common import get_all_letter_combinations\n",
    "from random import randint, shuffle,choice\n",
    "from PIL import Image\n",
    "from utils.common import one_hot_to_number\n",
    "from TA.delta.sumOfExamples import SumOfExamples as delta\n",
    "\n",
    "\n",
    "def generate_random_teaching_set_of_size_k(k,ai, e=1):\n",
    "    X,Y,labels = load_dataset()  \n",
    "    random_combo = list(zip(X,labels))\n",
    "    shuffle(random_combo)\n",
    "    \n",
    "    img_to_show = []\n",
    "    ai_values = []\n",
    "    letters = []\n",
    "\n",
    "    while len(letters) < k:\n",
    "        x,l = choice(random_combo)\n",
    "        l = \"\".join(remove_digit_from_labels(l))\n",
    "        if l not in letters:\n",
    "            letters.append(l)\n",
    "            img_to_show.append(Image.fromarray(x))\n",
    "            ai_values.append(one_hot_to_number(ai.predict(x)))\n",
    "                \n",
    "    for i in range(len(img_to_show)):\n",
    "        print(letters[i], ai_values[i])\n",
    "        img_to_show[i].show()"
   ]
  },
  {
   "cell_type": "markdown",
   "id": "6d1807ab",
   "metadata": {},
   "source": [
    "# Get random teaching set\n",
    "Select random unique letter groups, s.t. delta(ts_s) = delta(ts_r) +- e.\n",
    "e = 1"
   ]
  },
  {
   "cell_type": "code",
   "execution_count": 3,
   "id": "1b5ba0dd",
   "metadata": {},
   "outputs": [],
   "source": [
    "from utils.common import get_all_letter_combinations\n",
    "from random import randint, shuffle,choice\n",
    "from TA.delta.sumOfExamples import SumOfExamples\n",
    "\n",
    "\n",
    "def get_random_teaching_set(delta_score, epsilon,ai):\n",
    "    delta = SumOfExamples()\n",
    "    teaching_set = []\n",
    "    while True:\n",
    "        teaching_set = []\n",
    "        pos_letter = get_all_letter_combinations()\n",
    "        one_true = False\n",
    "        one_false = False\n",
    "        while delta.get_complexity_of_subset(teaching_set) < delta_score - epsilon:\n",
    "            lg = choice(pos_letter)\n",
    "            teaching_set.append(lg)\n",
    "            pos_letter.remove(lg)\n",
    "            if get_most_prop_val_given_lg(ai,lg) == 1:\n",
    "                one_true = True\n",
    "\n",
    "            else:\n",
    "                one_false = True\n",
    "        if delta.get_complexity_of_subset(teaching_set) <= delta_score + epsilon:\n",
    "            if one_true and one_false:\n",
    "                break\n",
    "    return sorted(teaching_set)\n",
    "    "
   ]
  },
  {
   "cell_type": "markdown",
   "id": "b6767dc0",
   "metadata": {},
   "source": [
    "# Given random letters, find random images"
   ]
  },
  {
   "cell_type": "code",
   "execution_count": 4,
   "id": "de749d34",
   "metadata": {},
   "outputs": [],
   "source": [
    "from random import choice\n",
    "from utils.dataset import load_dataset\n",
    "from PIL import Image\n",
    "\n",
    "\n",
    "def get_images(letter_groups , ai):\n",
    "    X,Y,labels = load_dataset()  \n",
    "    data_labels = list(zip(X,labels))\n",
    "    title = []\n",
    "    images = []\n",
    "    for lg in letter_groups:\n",
    "        found = False\n",
    "        while not found:\n",
    "            (curr_x,label) = choice(data_labels)\n",
    "            label = \"\".join(remove_digit_from_labels(label))\n",
    "            if label == lg:\n",
    "                images.append(curr_x)\n",
    "                title.append(lg)\n",
    "                found = True\n",
    "\n",
    "    return images, title"
   ]
  },
  {
   "cell_type": "markdown",
   "id": "ac7d5d19",
   "metadata": {},
   "source": [
    "# Find epsilon of given teaching set"
   ]
  },
  {
   "cell_type": "code",
   "execution_count": 5,
   "id": "a205b1da",
   "metadata": {},
   "outputs": [],
   "source": [
    "from TA.delta.sumOfExamples import SumOfExamples\n",
    "def get_delta_score(teaching_set):\n",
    "    return SumOfExamples().get_complexity_of_subset(teaching_set=teaching_set)\n",
    "\n",
    "def get_lg_from_res(data):\n",
    "    return data.split(\",\")[0].split(\"-\")"
   ]
  },
  {
   "cell_type": "code",
   "execution_count": 6,
   "id": "f5074da2",
   "metadata": {},
   "outputs": [
    {
     "data": {
      "text/plain": [
       "23"
      ]
     },
     "execution_count": 6,
     "metadata": {},
     "output_type": "execute_result"
    }
   ],
   "source": [
    "\n",
    "get_delta_score(get_lg_from_res(\"A-AB-ABCD-ABD-AC-ACD-AD-B-BC-BCD,1-0-0-1-0-1-0-1-0-1\"))"
   ]
  },
  {
   "cell_type": "code",
   "execution_count": 7,
   "id": "ac48d593",
   "metadata": {},
   "outputs": [],
   "source": [
    "from utils.dataset import load_dataset\n",
    "from utils.common import remove_digit_from_labels\n",
    "from TA.Lambda.mean_square_error import MSE\n",
    "from models.trainModel import load_model\n",
    "import random\n",
    "\n",
    "def prop_map_display(model):\n",
    "    print(\"loading...\")\n",
    "    X, y, labels = load_dataset()\n",
    "    print(\"loading done!\")\n",
    "    labels = remove_digit_from_labels(labels)\n",
    "    mse = MSE()\n",
    "    prop_map = mse._get_probaility_map_ai(ai_model=model, valid_X=X, valid_labels=labels)\n",
    "    for elem in prop_map.keys():\n",
    "        print(elem, str(prop_map[elem]*100).replace(\".\",\",\"))\n",
    "        \n",
    "def get_most_prop_val_given_lg(model,lg):\n",
    "    X, y, labels = load_dataset()\n",
    "    labels = remove_digit_from_labels(labels)\n",
    "    mse = MSE()\n",
    "    prop_map = mse._get_probaility_map_ai(ai_model=model, valid_X=X, valid_labels=labels)\n",
    "    return round(prop_map[lg])"
   ]
  },
  {
   "cell_type": "code",
   "execution_count": 26,
   "id": "b2e5a126",
   "metadata": {},
   "outputs": [
    {
     "name": "stdout",
     "output_type": "stream",
     "text": [
      "1.1\n",
      "loading probability map...\n",
      "loading probability map...\n",
      "loading probability map...\n",
      "loading probability map...\n",
      "loading probability map...\n",
      "loading probability map...\n",
      "loading probability map...\n",
      "loading probability map...\n",
      "loading probability map...\n",
      "loading probability map...\n",
      "loading probability map...\n",
      "loading probability map...\n",
      "loading probability map...\n",
      "loading probability map...\n",
      "loading probability map...\n",
      "loading probability map...\n",
      "loading probability map...\n",
      "loading probability map...\n",
      "loading probability map...\n",
      "loading probability map...\n",
      "loading probability map...\n",
      "loading probability map...\n",
      "loading probability map...\n",
      "loading probability map...\n",
      "loading probability map...\n",
      "loading probability map...\n",
      "loading probability map...\n",
      "loading probability map...\n",
      "loading probability map...\n",
      "loading probability map...\n",
      "loading probability map...\n",
      "loading probability map...\n",
      "loading probability map...\n",
      "loading probability map...\n",
      "loading probability map...\n",
      "loading probability map...\n",
      "loading probability map...\n",
      "loading probability map...\n",
      "loading probability map...\n",
      "loading probability map...\n",
      "loading probability map...\n",
      "loading probability map...\n",
      "2.1\n",
      "['', 'BD']\n",
      "loading probability map...\n",
      "loading probability map...\n",
      "-BD,1-0\n"
     ]
    }
   ],
   "source": [
    "from models.trainModel import load_model\n",
    "ai = load_model(f\"Phi_v2_5_nD\")\n",
    "\n",
    "from utils.common import one_hot_to_number\n",
    "curr_ts = get_lg_from_res(\"-D,1-0\")\n",
    "delta = get_delta_score(curr_ts)\n",
    "print(delta)\n",
    "r_TS = get_random_teaching_set(delta,1,ai)\n",
    "print(get_delta_score(r_TS))\n",
    "\n",
    "print(r_TS)\n",
    "#images, titles = get_images(r_TS, ai)\n",
    "ts_str = \"-\".join(r_TS) + \",\" + \"-\".join(map(lambda x: str(get_most_prop_val_given_lg(ai,x)), r_TS))\n",
    "print(ts_str)\n",
    "#for image, title in zip(images, titles):\n",
    "#    print(title,one_hot_to_number(ai.predict(image)))\n",
    "    #Image.fromarray(image).show()"
   ]
  },
  {
   "cell_type": "code",
   "execution_count": 9,
   "id": "d6c813fb",
   "metadata": {},
   "outputs": [
    {
     "ename": "NameError",
     "evalue": "name 'images' is not defined",
     "output_type": "error",
     "traceback": [
      "\u001b[0;31m---------------------------------------------------------------------------\u001b[0m",
      "\u001b[0;31mNameError\u001b[0m                                 Traceback (most recent call last)",
      "Cell \u001b[0;32mIn[9], line 1\u001b[0m\n\u001b[0;32m----> 1\u001b[0m \u001b[38;5;28;01mfor\u001b[39;00m image, title \u001b[38;5;129;01min\u001b[39;00m \u001b[38;5;28mzip\u001b[39m(\u001b[43mimages\u001b[49m, titles):\n\u001b[1;32m      2\u001b[0m     \u001b[38;5;28mprint\u001b[39m(title,one_hot_to_number(ai\u001b[38;5;241m.\u001b[39mpredict(image)))\n",
      "\u001b[0;31mNameError\u001b[0m: name 'images' is not defined"
     ]
    }
   ],
   "source": [
    "for image, title in zip(images, titles):\n",
    "    print(title,one_hot_to_number(ai.predict(image)))"
   ]
  },
  {
   "cell_type": "code",
   "execution_count": null,
   "id": "8b514218",
   "metadata": {},
   "outputs": [],
   "source": [
    "import random\n",
    "for i in range(16):\n",
    "    print(random.randint(0,1), end=\" \")\n",
    "print()\n",
    "    "
   ]
  },
  {
   "cell_type": "code",
   "execution_count": null,
   "id": "8694a3a7",
   "metadata": {},
   "outputs": [],
   "source": []
  },
  {
   "cell_type": "code",
   "execution_count": null,
   "id": "c1ce60e9",
   "metadata": {},
   "outputs": [],
   "source": [
    "prop_map_display(ai)\n",
    "get_most_prop_val_given_lg(ai, \"C\")"
   ]
  },
  {
   "cell_type": "code",
   "execution_count": null,
   "id": "2da8b458",
   "metadata": {},
   "outputs": [],
   "source": []
  },
  {
   "cell_type": "code",
   "execution_count": null,
   "id": "136dd569",
   "metadata": {},
   "outputs": [],
   "source": []
  }
 ],
 "metadata": {
  "kernelspec": {
   "display_name": "Python 3 (ipykernel)",
   "language": "python",
   "name": "python3"
  },
  "language_info": {
   "codemirror_mode": {
    "name": "ipython",
    "version": 3
   },
   "file_extension": ".py",
   "mimetype": "text/x-python",
   "name": "python",
   "nbconvert_exporter": "python",
   "pygments_lexer": "ipython3",
   "version": "3.10.0"
  }
 },
 "nbformat": 4,
 "nbformat_minor": 5
}
