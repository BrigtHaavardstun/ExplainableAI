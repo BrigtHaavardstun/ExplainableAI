{
 "cells": [
  {
   "cell_type": "markdown",
   "id": "8824d9a2",
   "metadata": {},
   "source": [
    "## This page gives an overview of how to use the code used in the paper \"XAI with Machine Teaching when Humans Are (Not) Informed about the Irrelevant Features\"\n",
    "\n",
    " If you follow each step you can choose an boolean function, generate new random training data, train a new Convolutional Neural Network and find the optimal* teaching set for this CNN.\n",
    "\n",
    "###### *Optimal in the sence that the Learner defined in the paper and implemented in this code gets the best score for the given teaching set. A combination of the size of the teaching size, and how well the learners choosen boolean formula fits the AI."
   ]
  },
  {
   "cell_type": "markdown",
   "id": "a33f63f4",
   "metadata": {},
   "source": [
    "- [Setting up the correct environment](#creating-conda)\n",
    "    - [Step 1: Install Conda](#install-conda)\n",
    "    - [Step 2: Create a new conda environment](#create-new-conda)\n",
    "    - [Step 3: Activate the environment](#activate-conda)\n",
    "- [Activate the jupyter notebook](#activate-the-jupyter-notebook)\n",
    "- [Selecting a boolean formula](#selecting-boolean-formula)\n",
    "    - [To change the boolean formula one needs to go to the file](#where-to-change)\n",
    "- [Generating new training data](#generating-new-training-data)\n",
    "    - [Step 1: Clean current data](#clean-data)\n",
    "    - [Step 2: Run fill_dataset.py](#run_fill_dataset)\n",
    "    - [Step 3: Done](#generating_done)\n",
    "- [Training a new AI](#training-a-new-ai)\n",
    "- [Find teaching set](#find-teaching-set)\n",
    "- [The solution](#the-solution)\n",
    "    - [The solution can be found in](#solution-location)\n",
    "- [Print the teaching set](#get-ts)\n"
   ]
  },
  {
   "cell_type": "markdown",
   "id": "3c3e98fa",
   "metadata": {},
   "source": [
    "<a id='creating-conda'></a>\n",
    "## Setting up the correct envoriment\n",
    "<a id='install-conda'></a>\n",
    " Step 1: Install Conda (pip might work also, but tested for conda). See the guide at [this page](https://conda.io/projects/conda/en/latest/user-guide/install/index.html)\n",
    " \n",
    "<a id='create-new-conda'></a>\n",
    " Step 2: Create a new conda enviorment\n",
    "```console\n",
    "foo@bar:ExplainableAI$ conda env create -f environment.yml --name ExplainableAIVenv\n",
    "```\n",
    "or if you want to use pip\n",
    "```console\n",
    "foo@bar:ExplainableAI$ pip install -r requirements_pip.txt\n",
    "```\n",
    "<a id='activate-conda'></a>\n",
    " Step 3: Activate the enviorment\n",
    "```console\n",
    "foo@bar:ExplainableAI$ conda activate ExplainableAIVenv\n",
    "```\n"
   ]
  },
  {
   "cell_type": "markdown",
   "id": "957a7a6e",
   "metadata": {},
   "source": [
    "<a id='activate-the-jupyter-notebook'></a>\n",
    "## Activate the juptyer notebook\n",
    "\n",
    "```console\n",
    "(ExplainableAIVenv) foo@bar:ExplainableAI$ jupyter notebook tutorial.ipynb\n",
    "```\n",
    "\n",
    " Once you mangage to open this file in juptyer notebook you are ready to run the code!"
   ]
  },
  {
   "cell_type": "markdown",
   "id": "e3d28583",
   "metadata": {},
   "source": [
    "<a id='selecting-boolean-formula'></a>\n",
    "## Selecting a boolean formula"
   ]
  },
  {
   "cell_type": "markdown",
   "id": "ed8eacbc",
   "metadata": {},
   "source": [
    "<a id='where-to-change'></a>\n",
    "### To change the boolean formula one needs to go to the file \n",
    "[utils/global_props.py](utils/global_props.py)\n",
    "\n",
    " Find the function \"booleanFunctionDefiniton\" and change the return value to any boolean expression you want using python. \n",
    "\n",
    " For instance: \n",
    "```python\n",
    "return  (A and B)\n",
    "# OR\n",
    "return (A and not B) or (not A and B)\n",
    "```\n",
    "\n",
    "\n",
    " NB: If you want to change alphabet, change the global variable \"ALL_LETTERS\". NB: only works for subset of A,B,C and D due to noe images for other letters in the folder [images](images)."
   ]
  },
  {
   "cell_type": "markdown",
   "id": "5a188263",
   "metadata": {},
   "source": [
    "<a id='generating-new-training-data'></a>\n",
    "# Generateing new training data\n",
    "\n",
    "<a id='clean-data'></a>\n",
    " ### Step 1: Clean current data\n",
    " To remove the data run the shell script \"clean_all.sh\" from the folder ExplainableAI\n",
    "\n",
    " Write this in the terminal (WARNING: MAKE SURE YOU ARE IN THE CORRECT FOLDER):\n",
    "```console\n",
    "foo@bar:ExplainableAI$ ./clean_all.sh\n",
    "Folder correct name. Continuing...\n",
    "Removing images...\n",
    "rm: *.png: No such file or directory\n",
    "Removing labels...\n",
    "rm: *.txt: No such file or directory\n",
    "Removing training data...\n",
    "rm: *.bmp: No such file or directory\n",
    "Done!\n",
    "```\n",
    "\n",
    "\n",
    "<a id='run_fill_dataset'></a>\n",
    " ### Step 2: Run fill_dataset.py\n",
    "\n",
    "```console\n",
    "foo@bar:ExplainableAI$ python fill_dataset.py\n",
    "Generating images using random placement routine...\n",
    "Converting images to bitmasks\n",
    "Generating labels from boolean function...\n",
    "```\n",
    "You can take a look in [data/images](data/images) if you want to confirm that the files in fact are being created.\n",
    "\n",
    " You have some options here, if you want to have the images in fixed_locations (fixed_square), rotation or not (rotation), and different size or not (scale). \n",
    " NB: this can take some time if the \"DATA_SET_SIZE\" in [global_props.py](utils/global_props.py) is high. \n",
    "<a id='generating_done'></a>\n",
    " ### Step 3: Done. \n",
    " The folders [images(original)](data/images), [labels](data/labels) and [training_data(bitmaps)](data/training_data) shuld now contain new traning data."
   ]
  },
  {
   "cell_type": "markdown",
   "id": "2bed0a63",
   "metadata": {},
   "source": [
    "<a id='training-a-new-ai'></a>\n",
    "# Training a new AI\n",
    "run the cells below, and an AI will be trained on the new boolean formula you have selected."
   ]
  },
  {
   "cell_type": "code",
   "execution_count": 18,
   "id": "d64c7ad2",
   "metadata": {},
   "outputs": [],
   "source": [
    "AI_name = \"set_name_of_AI\""
   ]
  },
  {
   "cell_type": "code",
   "execution_count": 19,
   "id": "3719e939",
   "metadata": {},
   "outputs": [
    {
     "name": "stdout",
     "output_type": "stream",
     "text": [
      "set_name_of_AI\n",
      "making the model...\n",
      "Model: \"sequential_2\"\n",
      "_________________________________________________________________\n",
      " Layer (type)                Output Shape              Param #   \n",
      "=================================================================\n",
      " conv2d_6 (Conv2D)           (None, 64, 64, 32)        320       \n",
      "                                                                 \n",
      " leaky_re_lu_10 (LeakyReLU)  (None, 64, 64, 32)        0         \n",
      "                                                                 \n",
      " max_pooling2d_6 (MaxPooling  (None, 32, 32, 32)       0         \n",
      " 2D)                                                             \n",
      "                                                                 \n",
      " dropout_8 (Dropout)         (None, 32, 32, 32)        0         \n",
      "                                                                 \n",
      " conv2d_7 (Conv2D)           (None, 32, 32, 64)        18496     \n",
      "                                                                 \n",
      " leaky_re_lu_11 (LeakyReLU)  (None, 32, 32, 64)        0         \n",
      "                                                                 \n",
      " max_pooling2d_7 (MaxPooling  (None, 16, 16, 64)       0         \n",
      " 2D)                                                             \n",
      "                                                                 \n",
      " dropout_9 (Dropout)         (None, 16, 16, 64)        0         \n",
      "                                                                 \n",
      " conv2d_8 (Conv2D)           (None, 16, 16, 128)       73856     \n",
      "                                                                 \n",
      " leaky_re_lu_12 (LeakyReLU)  (None, 16, 16, 128)       0         \n",
      "                                                                 \n",
      " max_pooling2d_8 (MaxPooling  (None, 8, 8, 128)        0         \n",
      " 2D)                                                             \n",
      "                                                                 \n",
      " dropout_10 (Dropout)        (None, 8, 8, 128)         0         \n",
      "                                                                 \n",
      " flatten_2 (Flatten)         (None, 8192)              0         \n",
      "                                                                 \n",
      " dense_6 (Dense)             (None, 128)               1048704   \n",
      "                                                                 \n",
      " leaky_re_lu_13 (LeakyReLU)  (None, 128)               0         \n",
      "                                                                 \n",
      " dropout_11 (Dropout)        (None, 128)               0         \n",
      "                                                                 \n",
      " dense_7 (Dense)             (None, 128)               16512     \n",
      "                                                                 \n",
      " leaky_re_lu_14 (LeakyReLU)  (None, 128)               0         \n",
      "                                                                 \n",
      " dense_8 (Dense)             (None, 2)                 258       \n",
      "                                                                 \n",
      "=================================================================\n",
      "Total params: 1,158,146\n",
      "Trainable params: 1,158,146\n",
      "Non-trainable params: 0\n",
      "_________________________________________________________________\n",
      "training the model...\n",
      "480\n",
      "Epoch 1/20\n"
     ]
    },
    {
     "name": "stderr",
     "output_type": "stream",
     "text": [
      "2023-06-22 11:47:49.821871: I tensorflow/core/grappler/optimizers/custom_graph_optimizer_registry.cc:114] Plugin optimizer for device_type GPU is enabled.\n"
     ]
    },
    {
     "name": "stdout",
     "output_type": "stream",
     "text": [
      "15/15 [==============================] - 1s 34ms/step - loss: 6.7924 - accuracy: 0.6771 - val_loss: 0.7731 - val_accuracy: 0.6719\n",
      "Epoch 2/20\n",
      " 1/15 [=>............................] - ETA: 0s - loss: 2.3724 - accuracy: 0.5938"
     ]
    },
    {
     "name": "stderr",
     "output_type": "stream",
     "text": [
      "2023-06-22 11:47:50.457393: I tensorflow/core/grappler/optimizers/custom_graph_optimizer_registry.cc:114] Plugin optimizer for device_type GPU is enabled.\n"
     ]
    },
    {
     "name": "stdout",
     "output_type": "stream",
     "text": [
      "15/15 [==============================] - 0s 29ms/step - loss: 1.1826 - accuracy: 0.7042 - val_loss: 0.6733 - val_accuracy: 0.6406\n",
      "Epoch 3/20\n",
      "15/15 [==============================] - 0s 23ms/step - loss: 0.6106 - accuracy: 0.7354 - val_loss: 0.5657 - val_accuracy: 0.7656\n",
      "Epoch 4/20\n",
      "15/15 [==============================] - 0s 22ms/step - loss: 0.4793 - accuracy: 0.7854 - val_loss: 0.5425 - val_accuracy: 0.7422\n",
      "Epoch 5/20\n",
      "15/15 [==============================] - 0s 23ms/step - loss: 0.4422 - accuracy: 0.8188 - val_loss: 0.5185 - val_accuracy: 0.7578\n",
      "Epoch 6/20\n",
      "15/15 [==============================] - 0s 24ms/step - loss: 0.4243 - accuracy: 0.8250 - val_loss: 0.4950 - val_accuracy: 0.7500\n",
      "Epoch 7/20\n",
      "15/15 [==============================] - 0s 22ms/step - loss: 0.3627 - accuracy: 0.8500 - val_loss: 0.5061 - val_accuracy: 0.7500\n",
      "Epoch 8/20\n",
      "15/15 [==============================] - 0s 21ms/step - loss: 0.3401 - accuracy: 0.8625 - val_loss: 0.4801 - val_accuracy: 0.7422\n",
      "Epoch 9/20\n",
      "15/15 [==============================] - 0s 23ms/step - loss: 0.3084 - accuracy: 0.8562 - val_loss: 0.4586 - val_accuracy: 0.7578\n",
      "Epoch 10/20\n",
      "15/15 [==============================] - 0s 22ms/step - loss: 0.3161 - accuracy: 0.8750 - val_loss: 0.5145 - val_accuracy: 0.7578\n",
      "Epoch 11/20\n",
      "15/15 [==============================] - 0s 23ms/step - loss: 0.3263 - accuracy: 0.8583 - val_loss: 0.4675 - val_accuracy: 0.7734\n",
      "Epoch 12/20\n",
      "15/15 [==============================] - 0s 20ms/step - loss: 0.2920 - accuracy: 0.8708 - val_loss: 0.4759 - val_accuracy: 0.7578\n",
      "Epoch 13/20\n",
      "15/15 [==============================] - 0s 21ms/step - loss: 0.2234 - accuracy: 0.9167 - val_loss: 0.4923 - val_accuracy: 0.7656\n",
      "Epoch 14/20\n",
      "15/15 [==============================] - 0s 23ms/step - loss: 0.2486 - accuracy: 0.8917 - val_loss: 0.5069 - val_accuracy: 0.7656\n",
      "Epoch 15/20\n",
      "15/15 [==============================] - 0s 24ms/step - loss: 0.2027 - accuracy: 0.9187 - val_loss: 0.5064 - val_accuracy: 0.7734\n",
      "Epoch 16/20\n",
      "15/15 [==============================] - 0s 23ms/step - loss: 0.1631 - accuracy: 0.9396 - val_loss: 0.4938 - val_accuracy: 0.7578\n",
      "Epoch 17/20\n",
      "15/15 [==============================] - 0s 22ms/step - loss: 0.1753 - accuracy: 0.9271 - val_loss: 0.5721 - val_accuracy: 0.7266\n",
      "Epoch 18/20\n",
      "15/15 [==============================] - 0s 24ms/step - loss: 0.1466 - accuracy: 0.9458 - val_loss: 0.6056 - val_accuracy: 0.7344\n",
      "Epoch 19/20\n",
      "15/15 [==============================] - 0s 21ms/step - loss: 0.1274 - accuracy: 0.9521 - val_loss: 0.6291 - val_accuracy: 0.7031\n",
      "Epoch 20/20\n",
      "15/15 [==============================] - 0s 20ms/step - loss: 0.1074 - accuracy: 0.9604 - val_loss: 0.5497 - val_accuracy: 0.7656\n"
     ]
    },
    {
     "name": "stderr",
     "output_type": "stream",
     "text": [
      "WARNING:absl:Found untraced functions such as _jit_compiled_convolution_op, _jit_compiled_convolution_op, _jit_compiled_convolution_op while saving (showing 3 of 3). These functions will not be directly callable after loading.\n"
     ]
    },
    {
     "name": "stdout",
     "output_type": "stream",
     "text": [
      "INFO:tensorflow:Assets written to: models/savedModels/set_name_of_AI/assets\n"
     ]
    },
    {
     "name": "stderr",
     "output_type": "stream",
     "text": [
      "INFO:tensorflow:Assets written to: models/savedModels/set_name_of_AI/assets\n"
     ]
    },
    {
     "data": {
      "image/png": "[encoded data removed]",
      "text/plain": [
       "<Figure size 640x480 with 1 Axes>"
      ]
     },
     "metadata": {},
     "output_type": "display_data"
    },
    {
     "data": {
      "image/png": "[encoded data removed]",
      "text/plain": [
       "<Figure size 640x480 with 1 Axes>"
      ]
     },
     "metadata": {},
     "output_type": "display_data"
    },
    {
     "name": "stderr",
     "output_type": "stream",
     "text": [
      "2023-06-22 11:47:57.710924: I tensorflow/core/grappler/optimizers/custom_graph_optimizer_registry.cc:114] Plugin optimizer for device_type GPU is enabled.\n"
     ]
    },
    {
     "name": "stdout",
     "output_type": "stream",
     "text": [
      "6/6 [==============================] - 0s 6ms/step\n",
      "Confusion matrix:\n",
      "[[128  19]\n",
      " [ 28  17]]\n"
     ]
    },
    {
     "data": {
      "image/png": "[encoded data removed]",
      "text/plain": [
       "<Figure size 640x480 with 2 Axes>"
      ]
     },
     "metadata": {},
     "output_type": "display_data"
    },
    {
     "data": {
      "text/plain": [
       "set_name_of_AI"
      ]
     },
     "execution_count": 19,
     "metadata": {},
     "output_type": "execute_result"
    }
   ],
   "source": [
    "from models.trainModel import run as generate_new_model\n",
    "from models.CNN.CNNmodel import CNN\n",
    "data_size = 1000000 # If training size above this, trim it down. \n",
    "name = AI_name\n",
    "print(name)\n",
    "generate_new_model(constructor=CNN, name=name, save=True, verbose=True,data_size_cap=data_size)"
   ]
  },
  {
   "cell_type": "markdown",
   "id": "c1e6f3bd",
   "metadata": {},
   "source": [
    "<a id=\"find-teaching-set\"></a>\n",
    "# Given an AI find the optimal teaching set"
   ]
  },
  {
   "cell_type": "code",
   "execution_count": 20,
   "id": "8d529736",
   "metadata": {},
   "outputs": [
    {
     "name": "stdout",
     "output_type": "stream",
     "text": [
      "attempting mu: 1000000\n",
      "model: set_name_of_AI\n",
      "subset_selector: TryAll\n",
      "compatibility_evalutator: Mean_Square_Error\n",
      "delta: SumOfExamples\n",
      "attemps: 1000000000000000\n",
      "Start load..\n",
      "end load\n",
      "loading probability map...\n",
      "Done loading probability map!\n",
      "early return at 28 1\n",
      "model: set_name_of_AI\n",
      "subset_selector: TryAll\n",
      "compatibility_evalutator: Mean_Square_Error\n",
      "delta: SumOfExamples\n",
      "attemps: 1000000000000000\n",
      "Start load..\n",
      "end load\n",
      "early return at 366 2\n",
      "model: set_name_of_AI\n",
      "subset_selector: TryAll\n",
      "compatibility_evalutator: Mean_Square_Error\n",
      "delta: SumOfExamples\n",
      "attemps: 1000000000000000\n",
      "Start load..\n",
      "end load\n",
      "impossible to find better score. Early break after 94 attempts. sample size: 3\n",
      "Failed to get theoretical best on run 3\n",
      "model: set_name_of_AI\n",
      "subset_selector: TryAll\n",
      "compatibility_evalutator: Mean_Square_Error\n",
      "delta: SumOfExamples\n",
      "attemps: 1000000000000000\n",
      "Start load..\n",
      "end load\n",
      "impossible to find better score. Early break after 13 attempts. sample size: 4\n",
      "Failed to get theoretical best on run 4\n",
      "model: set_name_of_AI\n",
      "subset_selector: TryAll\n",
      "compatibility_evalutator: Mean_Square_Error\n",
      "delta: SumOfExamples\n",
      "attemps: 1000000000000000\n",
      "Start load..\n",
      "end load\n",
      "impossible to find better score. Early break after 1 attempts. sample size: 5\n",
      "Failed to get theoretical best on run 5\n",
      "model: set_name_of_AI\n",
      "subset_selector: TryAll\n",
      "compatibility_evalutator: Mean_Square_Error\n",
      "delta: SumOfExamples\n",
      "attemps: 1000000000000000\n",
      "Start load..\n",
      "end load\n",
      "impossible to find better score. Early break after 1 attempts. sample size: 6\n",
      "Failed to get theoretical best on run 6\n",
      "model: set_name_of_AI\n",
      "subset_selector: TryAll\n",
      "compatibility_evalutator: Mean_Square_Error\n",
      "delta: SumOfExamples\n",
      "attemps: 1000000000000000\n",
      "Start load..\n",
      "end load\n",
      "impossible to find better score. Early break after 1 attempts. sample size: 7\n",
      "Failed to get theoretical best on run 7\n",
      "model: set_name_of_AI\n",
      "subset_selector: TryAll\n",
      "compatibility_evalutator: Mean_Square_Error\n",
      "delta: SumOfExamples\n",
      "attemps: 1000000000000000\n",
      "Start load..\n",
      "end load\n",
      "impossible to find better score. Early break after 1 attempts. sample size: 8\n",
      "Failed to get theoretical best on run 8\n",
      "model: set_name_of_AI\n",
      "subset_selector: TryAll\n",
      "compatibility_evalutator: Mean_Square_Error\n",
      "delta: SumOfExamples\n",
      "attemps: 1000000000000000\n",
      "Start load..\n",
      "end load\n",
      "impossible to find better score. Early break after 1 attempts. sample size: 9\n",
      "Failed to get theoretical best on run 9\n",
      "model: set_name_of_AI\n",
      "subset_selector: TryAll\n",
      "compatibility_evalutator: Mean_Square_Error\n",
      "delta: SumOfExamples\n",
      "attemps: 1000000000000000\n",
      "Start load..\n",
      "end load\n",
      "impossible to find better score. Early break after 1 attempts. sample size: 10\n",
      "Failed to get theoretical best on run 10\n",
      "model: set_name_of_AI\n",
      "subset_selector: TryAll\n",
      "compatibility_evalutator: Mean_Square_Error\n",
      "delta: SumOfExamples\n",
      "attemps: 1000000000000000\n",
      "Start load..\n",
      "end load\n",
      "impossible to find better score. Early break after 1 attempts. sample size: 11\n",
      "Failed to get theoretical best on run 11\n",
      "model: set_name_of_AI\n",
      "subset_selector: TryAll\n",
      "compatibility_evalutator: Mean_Square_Error\n",
      "delta: SumOfExamples\n",
      "attemps: 1000000000000000\n",
      "Start load..\n",
      "end load\n",
      "impossible to find better score. Early break after 1 attempts. sample size: 12\n",
      "Failed to get theoretical best on run 12\n",
      "model: set_name_of_AI\n",
      "subset_selector: TryAll\n",
      "compatibility_evalutator: Mean_Square_Error\n",
      "delta: SumOfExamples\n",
      "attemps: 1000000000000000\n",
      "Start load..\n",
      "end load\n",
      "impossible to find better score. Early break after 1 attempts. sample size: 13\n",
      "Failed to get theoretical best on run 13\n",
      "model: set_name_of_AI\n",
      "subset_selector: TryAll\n",
      "compatibility_evalutator: Mean_Square_Error\n",
      "delta: SumOfExamples\n",
      "attemps: 1000000000000000\n",
      "Start load..\n",
      "end load\n",
      "impossible to find better score. Early break after 1 attempts. sample size: 14\n",
      "Failed to get theoretical best on run 14\n",
      "model: set_name_of_AI\n",
      "subset_selector: TryAll\n",
      "compatibility_evalutator: Mean_Square_Error\n",
      "delta: SumOfExamples\n",
      "attemps: 1000000000000000\n",
      "Start load..\n",
      "end load\n",
      "impossible to find better score. Early break after 1 attempts. sample size: 15\n",
      "Failed to get theoretical best on run 15\n",
      "model: set_name_of_AI\n",
      "subset_selector: TryAll\n",
      "compatibility_evalutator: Mean_Square_Error\n",
      "delta: SumOfExamples\n",
      "attemps: 1000000000000000\n",
      "Start load..\n",
      "end load\n",
      "impossible to find better score. Early break after 1 attempts. sample size: 16\n",
      "Failed to get theoretical best on run 16\n"
     ]
    }
   ],
   "source": [
    "import run\n",
    "import tensorflow\n",
    "from TA.subset.try_all import TryAll\n",
    "from TA.subset.random_w_hash import RandomWHashSelect\n",
    "from TA.subset.random_select import RandomSelect\n",
    "from TA.delta.sumOfExamples import SumOfExamples as delta\n",
    "import time\n",
    "\n",
    "from utils.global_props import set_e, set_B, set_mu\n",
    "\n",
    "from models.trainModel import load_model\n",
    "ai_trails_testing = [load_model(AI_name)] # Load the AI\n",
    "\n",
    "sampling_attempts = [pow(10,15)] #\"infinite\"\n",
    "deltas = [delta()]\n",
    "sub_set_selectors = [TryAll()]\n",
    "\n",
    "#different_e_values = range(25,0,-1)\n",
    "#different_B_values = list(range(0,9))\n",
    "different_mu_values = [1000000]#[0.1,1,10,11,12,13,14,15,16,17,18,19,20,50,100,150,200,300,400,500]\n",
    "\n",
    "\n",
    "\n",
    "\"\"\"\n",
    "for B in different_B_values:\n",
    "set_B(B)\n",
    "for e in different_e_values:\n",
    "set_e(e)\n",
    "\"\"\"\n",
    "for mu in different_mu_values:\n",
    "    print(\"attempting mu:\",mu)\n",
    "    set_mu(mu)\n",
    "    run.main_run_system(re_train=False,clean_data=False, deltas=deltas, ai_models=ai_trails_testing,\n",
    "                         differentNrAttempts=sampling_attempts,subset_selectors=sub_set_selectors, verbose=True)"
   ]
  },
  {
   "cell_type": "markdown",
   "id": "961d8e0a",
   "metadata": {},
   "source": [
    "(#the-solution)\n",
    "    - [The solution can be found in](#solution-location)\n",
    "- [Get the teaching set](#get-ts)\n",
    "<a id=\"the-solution\"></a>\n",
    "# The solution \n",
    "\n",
    "<a id=\"solution-location\"></a>\n",
    "### The solution can be found in \n",
    "[over_all_best.csv](run_result/best/over_all_best.csv)\n",
    "\n",
    "### The output will look something like this:\n",
    "\n",
    " tag,subset_selectors,boolforest,bool_min,sample_attemps,compatibility,complexity,score,labels,predictions\n",
    " mu:1000000-set_name_of_AI-theoreticalFalse,TryAll,{A+B+C+D},A+B+C+D,1000000000000000,0.0,4.1,4.1,-A-B-C-D,0-1-1-1-1\n",
    "\n",
    "### From this we see that the Boolean formula we aim to teach is A+B+C+D. \n",
    "The reason we have {A+B+C+D} is beacuse we sometimes get multiple similary long boolean expression from the Karnough Map, and hence we want to see which among these we choose choose due to lexicographical order. \n",
    "\n",
    "### And the Teaching set used is {(#,0),(A,1),(B,1),(C,1),(D,1)}\n",
    "\n",
    "NB: The atheoreticalFalse is missleading. This is using another search technique which was exhausting the search space. Currently we search by increasing order of the teaching sets, whenever delta(teaching set) >= best score of any teaching set (delta(best)+mu\\*lambda(best)), we know we have found the best teaching set. Hence we abort the search."
   ]
  },
  {
   "cell_type": "markdown",
   "id": "5911039b",
   "metadata": {},
   "source": [
    "<a id=\"get-ts\"></a>\n",
    "# Simple script to extract the found the teaching set"
   ]
  },
  {
   "cell_type": "code",
   "execution_count": 21,
   "id": "b215e09d",
   "metadata": {},
   "outputs": [
    {
     "name": "stdout",
     "output_type": "stream",
     "text": [
      "tag,subset_selectors,boolforest,bool_min,sample_attemps,compatibility,complexity,score,labels,predictions\n",
      "mu:1000000-set_name_of_AI-theoreticalFalse,TryAll,{AB},AB,1000000000000000,0.32873096827522247,4,328734.96827522246,A-AB-B,0-1-0\n",
      "Teaching_set{(A,0),(AB,1),(B,0)}\n"
     ]
    }
   ],
   "source": [
    "with open(\"run_result/best/over_all_best.csv\", \"r\") as f:\n",
    "    all_lines = f.read().split(\"\\n\")\n",
    "    header = all_lines[0]\n",
    "    last_line = all_lines[-1]\n",
    "    print(header)\n",
    "    print(last_line)\n",
    "    parts = last_line.split(\",\")\n",
    "    teaching_examples= parts[-2].split(\"-\")\n",
    "    teaching_labels = parts[-1].split(\"-\")\n",
    "    \n",
    "    teaching_set = [\"(\"+ x+ \",\" + y +\")\" for x,y in zip(teaching_examples, teaching_labels)]\n",
    "    \n",
    "    teaching_set = \"{\" + \",\".join(teaching_set) + \"}\"\n",
    "    print(\"Teaching_set\" + teaching_set)"
   ]
  }
 ],
 "metadata": {
  "kernelspec": {
   "display_name": "Python 3 (ipykernel)",
   "language": "python",
   "name": "python3"
  },
  "language_info": {
   "codemirror_mode": {
    "name": "ipython",
    "version": 3
   },
   "file_extension": ".py",
   "mimetype": "text/x-python",
   "name": "python",
   "nbconvert_exporter": "python",
   "pygments_lexer": "ipython3",
   "version": "3.10.0"
  }
 },
 "nbformat": 4,
 "nbformat_minor": 5
}
