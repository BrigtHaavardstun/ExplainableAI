{
 "cells": [
  {
   "attachments": {},
   "cell_type": "markdown",
   "metadata": {},
   "source": [
    "<h1> Finding a good de-noised image</h1>"
   ]
  },
  {
   "attachments": {},
   "cell_type": "markdown",
   "metadata": {},
   "source": [
    "<h3> Some properties of the full image</h3>"
   ]
  },
  {
   "cell_type": "code",
   "execution_count": 27,
   "metadata": {},
   "outputs": [],
   "source": [
    "from utils.global_props import get_all_letters\n",
    "background_x = 500\n",
    "background_y = 500\n",
    "\n",
    "alphabet_size = len(get_all_letters())"
   ]
  },
  {
   "cell_type": "code",
   "execution_count": 24,
   "metadata": {},
   "outputs": [],
   "source": [
    "from PIL import Image\n",
    "def load_base_image(letter):\n",
    "    img = Image.open(f\"base_images/{letter}.jpeg\")\n",
    "    return img\n"
   ]
  },
  {
   "cell_type": "code",
   "execution_count": 34,
   "metadata": {},
   "outputs": [],
   "source": [
    "def make_de_niosed_image(image:str):\n",
    "    all_letters = sorted(list(image))\n",
    "    # Load images per letter\n",
    "    all_letters_images = [load_base_image(l) for l in all_letters] \n",
    "    \n",
    "    #Space between letters and border\n",
    "    offset = 10\n",
    "    new_letter_size = (background_x-offset*(alphabet_size+1))//alphabet_size\n",
    "    # Resize the letter to fit the larger image\n",
    "    all_letters_images = [image.resize([new_letter_size,new_letter_size]) for image in all_letters_images]\n",
    "    \n",
    "    background = Image.new('RGB',(background_x,background_y))\n",
    "\n",
    "    x_offset_total = int(background_x // 2 - offset*1/2*(len(image)-1) - len(image)*new_letter_size/2)\n",
    "    x_offset_each = offset + new_letter_size\n",
    "    y_offset = int(background_y // 2 - new_letter_size // 2)\n",
    "    \n",
    "    curr_x = x_offset_total\n",
    "    for letter_img in all_letters_images:\n",
    "        background.paste(letter_img, [curr_x, y_offset])\n",
    "        curr_x += x_offset_each\n",
    "    background.show()\n"
   ]
  },
  {
   "cell_type": "code",
   "execution_count": 35,
   "metadata": {},
   "outputs": [],
   "source": [
    "make_de_niosed_image(\"AB\")"
   ]
  },
  {
   "cell_type": "markdown",
   "metadata": {},
   "source": []
  },
  {
   "cell_type": "code",
   "execution_count": null,
   "metadata": {},
   "outputs": [],
   "source": []
  },
  {
   "cell_type": "code",
   "execution_count": null,
   "metadata": {},
   "outputs": [],
   "source": []
  },
  {
   "cell_type": "code",
   "execution_count": null,
   "metadata": {},
   "outputs": [],
   "source": []
  }
 ],
 "metadata": {
  "kernelspec": {
   "display_name": "Python 3.10.0 ('tensorflow')",
   "language": "python",
   "name": "python3"
  },
  "language_info": {
   "codemirror_mode": {
    "name": "ipython",
    "version": 3
   },
   "file_extension": ".py",
   "mimetype": "text/x-python",
   "name": "python",
   "nbconvert_exporter": "python",
   "pygments_lexer": "ipython3",
   "version": "3.10.0"
  },
  "orig_nbformat": 4,
  "vscode": {
   "interpreter": {
    "hash": "83e3b9e61caffcec7f015b95dc8cd16fb570e05840763213668471413514a038"
   }
  }
 },
 "nbformat": 4,
 "nbformat_minor": 2
}
