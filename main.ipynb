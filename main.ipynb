{
 "cells": [
  {
   "cell_type": "code",
   "execution_count": 2,
   "id": "07951040",
   "metadata": {},
   "outputs": [],
   "source": [
    "from utils.save_data import clean_all_csv_files\n",
    "clean_all_csv_files()"
   ]
  },
  {
   "cell_type": "code",
   "execution_count": 1,
   "id": "55301d56",
   "metadata": {},
   "outputs": [
    {
     "name": "stdout",
     "output_type": "stream",
     "text": [
      "Phi_v2_4_ex3\n",
      "making the model...\n",
      "Metal device set to: Apple M2\n",
      "Model: \"sequential\"\n",
      "_________________________________________________________________\n",
      " Layer (type)                Output Shape              Param #   \n",
      "=================================================================\n",
      " conv2d (Conv2D)             (None, 64, 64, 32)        320       \n",
      "                                                                 \n",
      " leaky_re_lu (LeakyReLU)     (None, 64, 64, 32)        0         \n",
      "                                                                 \n",
      " max_pooling2d (MaxPooling2D  (None, 32, 32, 32)       0         \n",
      " )                                                               \n",
      "                                                                 \n",
      " dropout (Dropout)           (None, 32, 32, 32)        0         \n",
      "                                                                 \n",
      " conv2d_1 (Conv2D)           (None, 32, 32, 64)        18496     \n",
      "                                                                 \n",
      " leaky_re_lu_1 (LeakyReLU)   (None, 32, 32, 64)        0         \n",
      "                                                                 \n",
      " max_pooling2d_1 (MaxPooling  (None, 16, 16, 64)       0         \n",
      " 2D)                                                             \n",
      "                                                                 \n",
      " dropout_1 (Dropout)         (None, 16, 16, 64)        0         \n",
      "                                                                 \n",
      " conv2d_2 (Conv2D)           (None, 16, 16, 128)       73856     \n",
      "                                                                 \n",
      " leaky_re_lu_2 (LeakyReLU)   (None, 16, 16, 128)       0         \n",
      "                                                                 \n",
      " max_pooling2d_2 (MaxPooling  (None, 8, 8, 128)        0         \n",
      " 2D)                                                             \n",
      "                                                                 \n",
      " dropout_2 (Dropout)         (None, 8, 8, 128)         0         \n",
      "                                                                 \n",
      " flatten (Flatten)           (None, 8192)              0         \n",
      "                                                                 \n",
      " dense (Dense)               (None, 128)               1048704   \n",
      "                                                                 \n",
      " leaky_re_lu_3 (LeakyReLU)   (None, 128)               0         \n",
      "                                                                 \n",
      " dropout_3 (Dropout)         (None, 128)               0         \n",
      "                                                                 \n",
      " dense_1 (Dense)             (None, 128)               16512     \n",
      "                                                                 \n",
      " leaky_re_lu_4 (LeakyReLU)   (None, 128)               0         \n",
      "                                                                 \n",
      " dense_2 (Dense)             (None, 2)                 258       \n",
      "                                                                 \n",
      "=================================================================\n",
      "Total params: 1,158,146\n",
      "Trainable params: 1,158,146\n",
      "Non-trainable params: 0\n",
      "_________________________________________________________________\n",
      "training the model...\n",
      "2400\n",
      "Epoch 1/20\n"
     ]
    },
    {
     "name": "stderr",
     "output_type": "stream",
     "text": [
      "2023-02-21 16:22:12.105545: I tensorflow/core/common_runtime/pluggable_device/pluggable_device_factory.cc:306] Could not identify NUMA node of platform GPU ID 0, defaulting to 0. Your kernel may not have been built with NUMA support.\n",
      "2023-02-21 16:22:12.105628: I tensorflow/core/common_runtime/pluggable_device/pluggable_device_factory.cc:272] Created TensorFlow device (/job:localhost/replica:0/task:0/device:GPU:0 with 0 MB memory) -> physical PluggableDevice (device: 0, name: METAL, pci bus id: <undefined>)\n",
      "2023-02-21 16:22:12.280797: W tensorflow/core/platform/profile_utils/cpu_utils.cc:128] Failed to get CPU frequency: 0 Hz\n",
      "2023-02-21 16:22:12.469950: I tensorflow/core/grappler/optimizers/custom_graph_optimizer_registry.cc:114] Plugin optimizer for device_type GPU is enabled.\n"
     ]
    },
    {
     "name": "stdout",
     "output_type": "stream",
     "text": [
      "72/75 [===========================>..] - ETA: 0s - loss: 2.4954 - accuracy: 0.6905"
     ]
    },
    {
     "name": "stderr",
     "output_type": "stream",
     "text": [
      "2023-02-21 16:22:14.102284: I tensorflow/core/grappler/optimizers/custom_graph_optimizer_registry.cc:114] Plugin optimizer for device_type GPU is enabled.\n"
     ]
    },
    {
     "name": "stdout",
     "output_type": "stream",
     "text": [
      "75/75 [==============================] - 2s 22ms/step - loss: 2.4151 - accuracy: 0.6938 - val_loss: 0.5035 - val_accuracy: 0.7969\n",
      "Epoch 2/20\n",
      "75/75 [==============================] - 1s 20ms/step - loss: 0.4756 - accuracy: 0.7775 - val_loss: 0.3941 - val_accuracy: 0.8531\n",
      "Epoch 3/20\n",
      "75/75 [==============================] - 2s 21ms/step - loss: 0.3812 - accuracy: 0.8275 - val_loss: 0.3644 - val_accuracy: 0.8188\n",
      "Epoch 4/20\n",
      "75/75 [==============================] - 2s 20ms/step - loss: 0.3674 - accuracy: 0.8350 - val_loss: 0.3390 - val_accuracy: 0.8297\n",
      "Epoch 5/20\n",
      "75/75 [==============================] - 2s 20ms/step - loss: 0.3252 - accuracy: 0.8558 - val_loss: 0.3325 - val_accuracy: 0.8516\n",
      "Epoch 6/20\n",
      "75/75 [==============================] - 1s 20ms/step - loss: 0.3011 - accuracy: 0.8721 - val_loss: 0.3320 - val_accuracy: 0.8109\n",
      "Epoch 7/20\n",
      "75/75 [==============================] - 1s 19ms/step - loss: 0.2774 - accuracy: 0.8771 - val_loss: 0.2862 - val_accuracy: 0.8734\n",
      "Epoch 8/20\n",
      "75/75 [==============================] - 2s 20ms/step - loss: 0.2620 - accuracy: 0.8813 - val_loss: 0.2809 - val_accuracy: 0.8781\n",
      "Epoch 9/20\n",
      "75/75 [==============================] - 1s 20ms/step - loss: 0.2425 - accuracy: 0.8988 - val_loss: 0.2557 - val_accuracy: 0.8844\n",
      "Epoch 10/20\n",
      "75/75 [==============================] - 1s 20ms/step - loss: 0.2295 - accuracy: 0.9029 - val_loss: 0.3018 - val_accuracy: 0.8813\n",
      "Epoch 11/20\n",
      "75/75 [==============================] - 1s 20ms/step - loss: 0.2020 - accuracy: 0.9158 - val_loss: 0.2782 - val_accuracy: 0.8750\n",
      "Epoch 12/20\n",
      "75/75 [==============================] - 1s 19ms/step - loss: 0.1823 - accuracy: 0.9267 - val_loss: 0.2271 - val_accuracy: 0.8984\n",
      "Epoch 13/20\n",
      "75/75 [==============================] - 1s 20ms/step - loss: 0.1588 - accuracy: 0.9396 - val_loss: 0.2814 - val_accuracy: 0.8875\n",
      "Epoch 14/20\n",
      "75/75 [==============================] - 2s 20ms/step - loss: 0.1415 - accuracy: 0.9404 - val_loss: 0.2633 - val_accuracy: 0.9031\n",
      "Epoch 15/20\n",
      "75/75 [==============================] - 2s 20ms/step - loss: 0.1308 - accuracy: 0.9471 - val_loss: 0.3634 - val_accuracy: 0.8797\n",
      "Epoch 16/20\n",
      "75/75 [==============================] - 2s 21ms/step - loss: 0.1122 - accuracy: 0.9542 - val_loss: 0.2313 - val_accuracy: 0.9125\n",
      "Epoch 17/20\n",
      "75/75 [==============================] - 1s 20ms/step - loss: 0.1125 - accuracy: 0.9571 - val_loss: 0.2070 - val_accuracy: 0.9156\n",
      "Epoch 18/20\n",
      "75/75 [==============================] - 1s 19ms/step - loss: 0.0979 - accuracy: 0.9617 - val_loss: 0.1833 - val_accuracy: 0.9297\n",
      "Epoch 19/20\n",
      "75/75 [==============================] - 1s 19ms/step - loss: 0.1083 - accuracy: 0.9583 - val_loss: 0.2958 - val_accuracy: 0.9062\n",
      "Epoch 20/20\n",
      "75/75 [==============================] - 2s 22ms/step - loss: 0.0985 - accuracy: 0.9650 - val_loss: 0.2403 - val_accuracy: 0.9203\n"
     ]
    },
    {
     "name": "stderr",
     "output_type": "stream",
     "text": [
      "WARNING:absl:Found untraced functions such as _jit_compiled_convolution_op, _jit_compiled_convolution_op, _jit_compiled_convolution_op while saving (showing 3 of 3). These functions will not be directly callable after loading.\n"
     ]
    },
    {
     "name": "stdout",
     "output_type": "stream",
     "text": [
      "INFO:tensorflow:Assets written to: models/savedModels/Phi_v2_4_ex3/assets\n"
     ]
    },
    {
     "name": "stderr",
     "output_type": "stream",
     "text": [
      "INFO:tensorflow:Assets written to: models/savedModels/Phi_v2_4_ex3/assets\n"
     ]
    },
    {
     "data": {
      "image/png": "[encoded data removed]",
      "text/plain": [
       "<Figure size 640x480 with 1 Axes>"
      ]
     },
     "metadata": {},
     "output_type": "display_data"
    },
    {
     "data": {
      "image/png": "[encoded data removed]",
      "text/plain": [
       "<Figure size 640x480 with 1 Axes>"
      ]
     },
     "metadata": {},
     "output_type": "display_data"
    },
    {
     "name": "stdout",
     "output_type": "stream",
     "text": [
      "30/30 [==============================] - 0s 5ms/step\n"
     ]
    },
    {
     "name": "stderr",
     "output_type": "stream",
     "text": [
      "2023-02-21 16:22:43.628058: I tensorflow/core/grappler/optimizers/custom_graph_optimizer_registry.cc:114] Plugin optimizer for device_type GPU is enabled.\n"
     ]
    },
    {
     "name": "stdout",
     "output_type": "stream",
     "text": [
      "Confusion matrix:\n",
      "[[691  28]\n",
      " [ 44 197]]\n"
     ]
    },
    {
     "data": {
      "image/png": "[encoded data removed]",
      "text/plain": [
       "<Figure size 640x480 with 2 Axes>"
      ]
     },
     "metadata": {},
     "output_type": "display_data"
    }
   ],
   "source": [
    "from models.trainModel import run as generate_new_model\n",
    "from models.CNN.CNNmodel import CNN\n",
    "different_traning_sizes = [100000]\n",
    "for i in different_traning_sizes:\n",
    "    name = f\"Phi_v2_4_ex1\"\n",
    "    print(name)\n",
    "    generate_new_model(constructor=CNN,\n",
    "                           name=name, save=True, verbose=True,data_size_cap=i)"
   ]
  },
  {
   "cell_type": "code",
   "execution_count": 2,
   "id": "84872a50",
   "metadata": {},
   "outputs": [],
   "source": [
    "import tensorflow"
   ]
  },
  {
   "cell_type": "code",
   "execution_count": 1,
   "id": "dc9305d4",
   "metadata": {},
   "outputs": [
    {
     "name": "stdout",
     "output_type": "stream",
     "text": [
      "Metal device set to: Apple M2\n"
     ]
    },
    {
     "name": "stderr",
     "output_type": "stream",
     "text": [
      "2023-03-12 15:42:33.027805: I tensorflow/core/common_runtime/pluggable_device/pluggable_device_factory.cc:306] Could not identify NUMA node of platform GPU ID 0, defaulting to 0. Your kernel may not have been built with NUMA support.\n",
      "2023-03-12 15:42:33.027927: I tensorflow/core/common_runtime/pluggable_device/pluggable_device_factory.cc:272] Created TensorFlow device (/job:localhost/replica:0/task:0/device:GPU:0 with 0 MB memory) -> physical PluggableDevice (device: 0, name: METAL, pci bus id: <undefined>)\n"
     ]
    }
   ],
   "source": [
    "from models.trainModel import load_model\n",
    "ai_trails_testing = [load_model(f\"Phi_6\")]\n"
   ]
  },
  {
   "cell_type": "code",
   "execution_count": 2,
   "id": "35a6ff2c",
   "metadata": {},
   "outputs": [
    {
     "name": "stdout",
     "output_type": "stream",
     "text": [
      "attempting mu: 1000000\n",
      "model: Phi_6\n",
      "subset_selector: TryAll\n",
      "compatibility_evalutator: Mean_Square_Error\n",
      "delta: SumOfExamples\n",
      "attemps: 1000000000\n",
      "Start load..\n",
      "end load\n",
      "loading probability map...\n",
      "Done loading probability map!\n",
      "early return at 28 1\n",
      "model: Phi_6\n",
      "subset_selector: TryAll\n",
      "compatibility_evalutator: Mean_Square_Error\n",
      "delta: SumOfExamples\n",
      "attemps: 1000000000\n",
      "Start load..\n",
      "end load\n",
      "early return at 366 2\n",
      "model: Phi_6\n",
      "subset_selector: TryAll\n",
      "compatibility_evalutator: Mean_Square_Error\n",
      "delta: SumOfExamples\n",
      "attemps: 1000000000\n",
      "Start load..\n",
      "end load\n",
      "early return at 2964 3\n",
      "model: Phi_6\n",
      "subset_selector: TryAll\n",
      "compatibility_evalutator: Mean_Square_Error\n",
      "delta: SumOfExamples\n",
      "attemps: 1000000000\n",
      "Start load..\n",
      "end load\n",
      "early return at 16641 4\n",
      "model: Phi_6\n",
      "subset_selector: TryAll\n",
      "compatibility_evalutator: Mean_Square_Error\n",
      "delta: SumOfExamples\n",
      "attemps: 1000000000\n",
      "Start load..\n",
      "end load\n",
      "early return at 68664 5\n",
      "model: Phi_6\n",
      "subset_selector: TryAll\n",
      "compatibility_evalutator: Mean_Square_Error\n",
      "delta: SumOfExamples\n",
      "attemps: 1000000000\n",
      "Start load..\n",
      "end load\n",
      "early return at 215336 6\n",
      "model: Phi_6\n",
      "subset_selector: TryAll\n",
      "compatibility_evalutator: Mean_Square_Error\n",
      "delta: SumOfExamples\n",
      "attemps: 1000000000\n",
      "Start load..\n",
      "end load\n",
      "early return at 523424 7\n",
      "model: Phi_6\n",
      "subset_selector: TryAll\n",
      "compatibility_evalutator: Mean_Square_Error\n",
      "delta: SumOfExamples\n",
      "attemps: 1000000000\n",
      "Start load..\n",
      "end load\n",
      "early return at 996336 8\n",
      "model: Phi_6\n",
      "subset_selector: TryAll\n",
      "compatibility_evalutator: Mean_Square_Error\n",
      "delta: SumOfExamples\n",
      "attemps: 1000000000\n",
      "Start load..\n",
      "end load\n",
      "early return at 1489664 9\n",
      "model: Phi_6\n",
      "subset_selector: TryAll\n",
      "compatibility_evalutator: Mean_Square_Error\n",
      "delta: SumOfExamples\n",
      "attemps: 1000000000\n",
      "Start load..\n",
      "end load\n",
      "early return at 1743104 10\n",
      "model: Phi_6\n",
      "subset_selector: TryAll\n",
      "compatibility_evalutator: Mean_Square_Error\n",
      "delta: SumOfExamples\n",
      "attemps: 1000000000\n",
      "Start load..\n",
      "end load\n",
      "impossible to find better score. Early break after 20675 attempts. sample size: 11\n",
      "Failed to get theoretical best on run 11\n",
      "model: Phi_6\n",
      "subset_selector: TryAll\n",
      "compatibility_evalutator: Mean_Square_Error\n",
      "delta: SumOfExamples\n",
      "attemps: 1000000000\n",
      "Start load..\n",
      "end load\n",
      "impossible to find better score. Early break after 1 attempts. sample size: 12\n",
      "Failed to get theoretical best on run 12\n",
      "model: Phi_6\n",
      "subset_selector: TryAll\n",
      "compatibility_evalutator: Mean_Square_Error\n",
      "delta: SumOfExamples\n",
      "attemps: 1000000000\n",
      "Start load..\n",
      "end load\n",
      "impossible to find better score. Early break after 1 attempts. sample size: 13\n",
      "Failed to get theoretical best on run 13\n",
      "model: Phi_6\n",
      "subset_selector: TryAll\n",
      "compatibility_evalutator: Mean_Square_Error\n",
      "delta: SumOfExamples\n",
      "attemps: 1000000000\n",
      "Start load..\n",
      "end load\n",
      "impossible to find better score. Early break after 1 attempts. sample size: 14\n",
      "Failed to get theoretical best on run 14\n",
      "model: Phi_6\n",
      "subset_selector: TryAll\n",
      "compatibility_evalutator: Mean_Square_Error\n",
      "delta: SumOfExamples\n",
      "attemps: 1000000000\n",
      "Start load..\n",
      "end load\n",
      "impossible to find better score. Early break after 1 attempts. sample size: 15\n",
      "Failed to get theoretical best on run 15\n",
      "model: Phi_6\n",
      "subset_selector: TryAll\n",
      "compatibility_evalutator: Mean_Square_Error\n",
      "delta: SumOfExamples\n",
      "attemps: 1000000000\n",
      "Start load..\n",
      "end load\n",
      "impossible to find better score. Early break after 1 attempts. sample size: 16\n",
      "Failed to get theoretical best on run 16\n"
     ]
    }
   ],
   "source": [
    "import run\n",
    "\n",
    "from TA.subset.try_all import TryAll\n",
    "from TA.subset.random_w_hash import RandomWHashSelect\n",
    "from TA.subset.random_select import RandomSelect\n",
    "from TA.delta.sumOfExamples import SumOfExamples as delta\n",
    "import time\n",
    "\n",
    "from utils.global_props import set_e, set_B, set_mu\n",
    "sampling_attempts = [1000000000] #\"infinite\"\n",
    "deltas = [delta()]\n",
    "sub_set_selectors = [TryAll()]\n",
    "\n",
    "#different_e_values = range(25,0,-1)\n",
    "#different_B_values = list(range(0,9))\n",
    "different_mu_values = [1000000]#[0.1,1,10,11,12,13,14,15,16,17,18,19,20,50,100,150,200,300,400,500]\n",
    "#different_mu_values = [40,50,60,70,80,85,90,95,100,105,110,115,120,130,140,150,200,500]\n",
    "\n",
    "\n",
    "\n",
    "\"\"\"\n",
    "for B in different_B_values:\n",
    "set_B(B)\n",
    "for e in different_e_values:\n",
    "set_e(e)\n",
    "\"\"\"\n",
    "for mu in different_mu_values:\n",
    "    print(\"attempting mu:\",mu)\n",
    "    set_mu(mu)\n",
    "    run.main_run_system(re_train=False,clean_data=False, deltas=deltas, ai_models=ai_trails_testing,\n",
    "                         differentNrAttempts=sampling_attempts,subset_selectors=sub_set_selectors, verbose=True)"
   ]
  },
  {
   "cell_type": "code",
   "execution_count": 4,
   "id": "4202129a",
   "metadata": {},
   "outputs": [],
   "source": [
    "ai_models =  ai_trails_testing"
   ]
  },
  {
   "cell_type": "code",
   "execution_count": 6,
   "id": "905b3a47",
   "metadata": {},
   "outputs": [],
   "source": [
    "from utils.dataset import load_dataset\n",
    "from utils.common import remove_digit_from_labels\n",
    "from TA.Lambda.mean_square_error import MSE\n",
    "from models.trainModel import load_model\n",
    "import random\n",
    "def sub_sample_test(valid_X, valid_labels, sample_size):\n",
    "    all_data_zip = []\n",
    "    for i in range(len(valid_labels)):\n",
    "        all_data_zip.append((valid_X[i], valid_labels[i]))\n",
    "\n",
    "    picks = random.sample(all_data_zip, sample_size)\n",
    "\n",
    "    valid_X, valid_labels = zip(*picks)\n",
    "    return valid_X, valid_labels\n",
    "\n",
    "def prop_map_display(model):\n",
    "    print(\"loading...\")\n",
    "    X, y, labels = load_dataset()\n",
    "    print(\"loading done!\")\n",
    "    labels = remove_digit_from_labels(labels)\n",
    "    mse = MSE()\n",
    "    prop_map = mse._get_probaility_map_ai(ai_model=model, valid_X=X, valid_labels=labels)\n",
    "    for elem in prop_map.keys():\n",
    "        print(str(prop_map[elem]*100).replace(\".\",\",\"))"
   ]
  },
  {
   "cell_type": "code",
   "execution_count": 7,
   "id": "d980bcf9",
   "metadata": {},
   "outputs": [
    {
     "name": "stdout",
     "output_type": "stream",
     "text": [
      "########## Phi_v2_1_ex2 ##########\n",
      "loading...\n",
      "loading done!\n",
      "0,0\n",
      "0,0\n",
      "0,7763975155279503\n",
      "0,0\n",
      "1,6467065868263475\n",
      "94,88817891373802\n",
      "28,459119496855344\n",
      "96,46153846153847\n",
      "98,9778534923339\n",
      "98,6159169550173\n",
      "98,55305466237942\n",
      "2,358490566037736\n",
      "2,5\n",
      "61,348684210526315\n",
      "6,129032258064516\n",
      "0,0\n"
     ]
    }
   ],
   "source": [
    "for model in ai_models:\n",
    "    print(\"#\"*10,str(model),\"#\"*10)\n",
    "    prop_map_display(model) "
   ]
  },
  {
   "cell_type": "code",
   "execution_count": 8,
   "id": "9ea51883",
   "metadata": {},
   "outputs": [
    {
     "name": "stdout",
     "output_type": "stream",
     "text": [
      "########## Phi_v2_1_ex2 ##########\n",
      "loading...\n",
      "loading done!\n",
      "0,0\n",
      "0,0\n",
      "0,7763975155279503\n",
      "0,0\n",
      "1,6467065868263475\n",
      "94,88817891373802\n",
      "28,459119496855344\n",
      "96,46153846153847\n",
      "98,9778534923339\n",
      "98,6159169550173\n",
      "98,55305466237942\n",
      "2,358490566037736\n",
      "2,5\n",
      "61,348684210526315\n",
      "6,129032258064516\n",
      "0,0\n"
     ]
    }
   ],
   "source": [
    "# this is going for all data. Should give same lambda then\n",
    "for model in ai_models:\n",
    "    print(\"#\"*10,str(model),\"#\"*10)\n",
    "    prop_map_display(model) "
   ]
  },
  {
   "cell_type": "code",
   "execution_count": 23,
   "id": "1b047d4f",
   "metadata": {},
   "outputs": [
    {
     "name": "stdout",
     "output_type": "stream",
     "text": [
      "########## CNN_aligment_test_1250 ##########\n",
      "0,0\n",
      "0,641025641025641\n",
      "1,2464046021093003\n",
      "21,547502448579824\n",
      "30,125523012552303\n",
      "50,10615711252654\n",
      "46,09450337512054\n",
      "89,60155490767735\n"
     ]
    }
   ],
   "source": [
    "i = [1250]\n",
    "names = list(map(lambda x: f\"CNN_aligment_test_{x}\", i))\n",
    "for name in names:\n",
    "    print(\"#\"*10,name,\"#\"*10)\n",
    "    prop_map_display(name) "
   ]
  },
  {
   "cell_type": "code",
   "execution_count": null,
   "id": "13ba9822",
   "metadata": {},
   "outputs": [],
   "source": []
  },
  {
   "cell_type": "code",
   "execution_count": 10,
   "id": "3c6054eb",
   "metadata": {},
   "outputs": [],
   "source": [
    "from utils.dataset import load_dataset\n",
    "X, y, labels = load_dataset()\n",
    "from utils.common import remove_digit_from_labels\n",
    "labels = remove_digit_from_labels(labels)"
   ]
  },
  {
   "cell_type": "code",
   "execution_count": 11,
   "id": "ad595b82",
   "metadata": {},
   "outputs": [],
   "source": [
    "mse = MSE()\n",
    "prop_map = mse._get_probaility_map_ai(ai_model=model, valid_X=X, valid_labels=labels)"
   ]
  },
  {
   "cell_type": "code",
   "execution_count": 12,
   "id": "a9a4dbe1",
   "metadata": {},
   "outputs": [
    {
     "name": "stdout",
     "output_type": "stream",
     "text": [
      "'':0.0\n",
      "'A':0.0\n",
      "'B':0.007763975155279503\n",
      "'C':0.0\n",
      "'D':0.016467065868263474\n",
      "'AB':0.9488817891373802\n",
      "'AC':0.28459119496855345\n",
      "'AD':0.9646153846153847\n",
      "'BC':0.989778534923339\n",
      "'BD':0.986159169550173\n",
      "'CD':0.9855305466237942\n",
      "'ABC':0.02358490566037736\n",
      "'ABD':0.025\n",
      "'ACD':0.6134868421052632\n",
      "'BCD':0.06129032258064516\n",
      "'ABCD':0.0\n"
     ]
    }
   ],
   "source": [
    "for elem in prop_map.keys():\n",
    "    print(\"'\"+str(elem) + \"'\" +  \":\" + str(prop_map[elem]))"
   ]
  },
  {
   "cell_type": "code",
   "execution_count": 21,
   "id": "b992b6e9",
   "metadata": {},
   "outputs": [
    {
     "ename": "OSError",
     "evalue": "No file or directory found at models/savedModels/CNN_aligment_test_10",
     "output_type": "error",
     "traceback": [
      "\u001b[1;31m---------------------------------------------------------------------------\u001b[0m",
      "\u001b[1;31mOSError\u001b[0m                                   Traceback (most recent call last)",
      "Input \u001b[1;32mIn [21]\u001b[0m, in \u001b[0;36m<cell line: 3>\u001b[1;34m()\u001b[0m\n\u001b[0;32m      1\u001b[0m \u001b[38;5;28;01mfrom\u001b[39;00m \u001b[38;5;21;01mmodels\u001b[39;00m\u001b[38;5;21;01m.\u001b[39;00m\u001b[38;5;21;01mtrainModel\u001b[39;00m \u001b[38;5;28;01mimport\u001b[39;00m load_model\n\u001b[1;32m----> 3\u001b[0m model_10 \u001b[38;5;241m=\u001b[39m \u001b[43mload_model\u001b[49m\u001b[43m(\u001b[49m\u001b[38;5;124;43m\"\u001b[39;49m\u001b[38;5;124;43mCNN_aligment_test_10\u001b[39;49m\u001b[38;5;124;43m\"\u001b[39;49m\u001b[43m)\u001b[49m\n",
      "File \u001b[1;32m~\\OneDrive\\UiB\\Master\\ExplainableAI\\models\\trainModel.py:92\u001b[0m, in \u001b[0;36mload_model\u001b[1;34m(name)\u001b[0m\n\u001b[0;32m     87\u001b[0m \u001b[38;5;28;01mdef\u001b[39;00m \u001b[38;5;21mload_model\u001b[39m(name: \u001b[38;5;28mstr\u001b[39m) \u001b[38;5;241m-\u001b[39m\u001b[38;5;241m>\u001b[39m AbstractModel:\n\u001b[0;32m     88\u001b[0m     \u001b[38;5;124;03m\"\"\"\u001b[39;00m\n\u001b[0;32m     89\u001b[0m \u001b[38;5;124;03m    name: Custom name of ai model\u001b[39;00m\n\u001b[0;32m     90\u001b[0m \u001b[38;5;124;03m    model_name: Name of the model used, CNN or NN\u001b[39;00m\n\u001b[0;32m     91\u001b[0m \u001b[38;5;124;03m    \"\"\"\u001b[39;00m\n\u001b[1;32m---> 92\u001b[0m     ai_model_keras \u001b[38;5;241m=\u001b[39m \u001b[43mkeras\u001b[49m\u001b[38;5;241;43m.\u001b[39;49m\u001b[43mmodels\u001b[49m\u001b[38;5;241;43m.\u001b[39;49m\u001b[43mload_model\u001b[49m\u001b[43m(\u001b[49m\u001b[38;5;124;43mf\u001b[39;49m\u001b[38;5;124;43m'\u001b[39;49m\u001b[38;5;124;43mmodels/savedModels/\u001b[39;49m\u001b[38;5;132;43;01m{\u001b[39;49;00m\u001b[43mname\u001b[49m\u001b[38;5;132;43;01m}\u001b[39;49;00m\u001b[38;5;124;43m'\u001b[39;49m\u001b[43m)\u001b[49m\n\u001b[0;32m     93\u001b[0m     ai_model \u001b[38;5;241m=\u001b[39m LoadModel(name\u001b[38;5;241m=\u001b[39mname, model\u001b[38;5;241m=\u001b[39mai_model_keras)\n\u001b[0;32m     94\u001b[0m     \u001b[38;5;28;01mreturn\u001b[39;00m ai_model\n",
      "File \u001b[1;32m~\\OneDrive\\UiB\\Master\\ExplainableAI\\venv\\lib\\site-packages\\keras\\utils\\traceback_utils.py:67\u001b[0m, in \u001b[0;36mfilter_traceback.<locals>.error_handler\u001b[1;34m(*args, **kwargs)\u001b[0m\n\u001b[0;32m     65\u001b[0m \u001b[38;5;28;01mexcept\u001b[39;00m \u001b[38;5;167;01mException\u001b[39;00m \u001b[38;5;28;01mas\u001b[39;00m e:  \u001b[38;5;66;03m# pylint: disable=broad-except\u001b[39;00m\n\u001b[0;32m     66\u001b[0m   filtered_tb \u001b[38;5;241m=\u001b[39m _process_traceback_frames(e\u001b[38;5;241m.\u001b[39m__traceback__)\n\u001b[1;32m---> 67\u001b[0m   \u001b[38;5;28;01mraise\u001b[39;00m e\u001b[38;5;241m.\u001b[39mwith_traceback(filtered_tb) \u001b[38;5;28;01mfrom\u001b[39;00m \u001b[38;5;28mNone\u001b[39m\n\u001b[0;32m     68\u001b[0m \u001b[38;5;28;01mfinally\u001b[39;00m:\n\u001b[0;32m     69\u001b[0m   \u001b[38;5;28;01mdel\u001b[39;00m filtered_tb\n",
      "File \u001b[1;32m~\\OneDrive\\UiB\\Master\\ExplainableAI\\venv\\lib\\site-packages\\keras\\saving\\save.py:209\u001b[0m, in \u001b[0;36mload_model\u001b[1;34m(filepath, custom_objects, compile, options)\u001b[0m\n\u001b[0;32m    207\u001b[0m \u001b[38;5;28;01mif\u001b[39;00m \u001b[38;5;28misinstance\u001b[39m(filepath, \u001b[38;5;28mstr\u001b[39m):\n\u001b[0;32m    208\u001b[0m   \u001b[38;5;28;01mif\u001b[39;00m \u001b[38;5;129;01mnot\u001b[39;00m tf\u001b[38;5;241m.\u001b[39mio\u001b[38;5;241m.\u001b[39mgfile\u001b[38;5;241m.\u001b[39mexists(filepath):\n\u001b[1;32m--> 209\u001b[0m     \u001b[38;5;28;01mraise\u001b[39;00m \u001b[38;5;167;01mIOError\u001b[39;00m(\u001b[38;5;124mf\u001b[39m\u001b[38;5;124m'\u001b[39m\u001b[38;5;124mNo file or directory found at \u001b[39m\u001b[38;5;132;01m{\u001b[39;00mfilepath\u001b[38;5;132;01m}\u001b[39;00m\u001b[38;5;124m'\u001b[39m)\n\u001b[0;32m    210\u001b[0m   \u001b[38;5;28;01mif\u001b[39;00m saving_utils\u001b[38;5;241m.\u001b[39mis_hdf5_filepath(filepath) \u001b[38;5;129;01mand\u001b[39;00m h5py \u001b[38;5;129;01mis\u001b[39;00m \u001b[38;5;28;01mNone\u001b[39;00m:\n\u001b[0;32m    211\u001b[0m     \u001b[38;5;28;01mraise\u001b[39;00m \u001b[38;5;167;01mImportError\u001b[39;00m(\n\u001b[0;32m    212\u001b[0m         \u001b[38;5;124m'\u001b[39m\u001b[38;5;124mFilepath looks like a hdf5 file but h5py is not available.\u001b[39m\u001b[38;5;124m'\u001b[39m\n\u001b[0;32m    213\u001b[0m         \u001b[38;5;124mf\u001b[39m\u001b[38;5;124m'\u001b[39m\u001b[38;5;124m filepath=\u001b[39m\u001b[38;5;132;01m{\u001b[39;00mfilepath\u001b[38;5;132;01m}\u001b[39;00m\u001b[38;5;124m'\u001b[39m)\n",
      "\u001b[1;31mOSError\u001b[0m: No file or directory found at models/savedModels/CNN_aligment_test_10"
     ]
    }
   ],
   "source": [
    "from models.trainModel import load_model\n",
    "\n",
    "model_10 = load_model(\"CNN_aligment_test_10\")"
   ]
  },
  {
   "cell_type": "code",
   "execution_count": 33,
   "id": "58b173eb",
   "metadata": {},
   "outputs": [],
   "source": [
    "prop_map_500 = mse._get_probaility_map_ai(ai_model=model_500, valid_X=X, valid_labels=labels)"
   ]
  },
  {
   "cell_type": "code",
   "execution_count": 34,
   "id": "3911c0c6",
   "metadata": {},
   "outputs": [
    {
     "name": "stdout",
     "output_type": "stream",
     "text": [
      "'':0.0\n",
      "'A':1.0\n",
      "'B':1.0\n",
      "'C':0.9932735426008968\n",
      "'AB':0.4655408489274304\n",
      "'AC':0.10053619302949061\n",
      "'BC':0.054528650646950096\n",
      "'ABC':0.0013599274705349048\n"
     ]
    }
   ],
   "source": [
    "for elem in prop_map_500.keys():\n",
    "    print(\"'\"+str(elem) + \"'\" +  \":\" + str(prop_map[elem]))"
   ]
  },
  {
   "cell_type": "code",
   "execution_count": 35,
   "id": "2d25a778",
   "metadata": {},
   "outputs": [],
   "source": [
    "model_200 = load_model(\"train_set_200\")"
   ]
  },
  {
   "cell_type": "code",
   "execution_count": 36,
   "id": "b26a6956",
   "metadata": {},
   "outputs": [],
   "source": [
    "prop_map_200 = mse._get_probaility_map_ai(ai_model=model_200, valid_X=X, valid_labels=labels)"
   ]
  },
  {
   "cell_type": "code",
   "execution_count": 38,
   "id": "8a0f7775",
   "metadata": {},
   "outputs": [],
   "source": [
    "def show(prop_map):\n",
    "    for elem in prop_map.keys():\n",
    "        print(\"'\"+str(elem) + \"'\" +  \":\" + str(prop_map[elem]))"
   ]
  },
  {
   "cell_type": "code",
   "execution_count": 39,
   "id": "1995fbd0",
   "metadata": {},
   "outputs": [
    {
     "name": "stdout",
     "output_type": "stream",
     "text": [
      "'':0.0\n",
      "'A':0.9948074426655128\n",
      "'B':1.0\n",
      "'C':0.8147982062780269\n",
      "'AB':0.6394340483797353\n",
      "'AC':0.4316353887399464\n",
      "'BC':0.3077634011090573\n",
      "'ABC':0.05031731640979148\n"
     ]
    }
   ],
   "source": [
    "show(prop_map_200)"
   ]
  },
  {
   "cell_type": "code",
   "execution_count": 43,
   "id": "5679268d",
   "metadata": {},
   "outputs": [
    {
     "name": "stdout",
     "output_type": "stream",
     "text": [
      "'':0.0\n",
      "'A':1.0\n",
      "'B':1.0\n",
      "'C':0.9690582959641255\n",
      "'AB':0.6768598813327248\n",
      "'AC':0.3315460232350313\n",
      "'BC':0.20517560073937152\n",
      "'ABC':0.010879419764279238\n"
     ]
    }
   ],
   "source": [
    "show(prop_map_500)"
   ]
  },
  {
   "cell_type": "code",
   "execution_count": 42,
   "id": "8d0a1fd2",
   "metadata": {},
   "outputs": [
    {
     "name": "stdout",
     "output_type": "stream",
     "text": [
      "'':0.0\n",
      "'A':1.0\n",
      "'B':1.0\n",
      "'C':0.9932735426008968\n",
      "'AB':0.4655408489274304\n",
      "'AC':0.10053619302949061\n",
      "'BC':0.054528650646950096\n",
      "'ABC':0.0013599274705349048\n"
     ]
    }
   ],
   "source": [
    "show(prop_map_600)"
   ]
  },
  {
   "cell_type": "code",
   "execution_count": 41,
   "id": "3e3da220",
   "metadata": {},
   "outputs": [],
   "source": [
    "prop_map_600 = mse._get_probaility_map_ai(ai_model=model_600, valid_X=X, valid_labels=labels)"
   ]
  },
  {
   "cell_type": "code",
   "execution_count": 44,
   "id": "7f32b8a0",
   "metadata": {},
   "outputs": [],
   "source": [
    "def theoretical_closest(prop_map):\n",
    "    mse = 0\n",
    "    for k in prop_map:\n",
    "        mse += prop_map[k]**2\n",
    "    return mse"
   ]
  },
  {
   "cell_type": "code",
   "execution_count": 46,
   "id": "4fa4fb22",
   "metadata": {},
   "outputs": [
    {
     "name": "stdout",
     "output_type": "stream",
     "text": [
      "3.345973119369467\n",
      "3.549351434370778\n",
      "3.2164033617039736\n"
     ]
    }
   ],
   "source": [
    "for prop_map in [prop_map_200,prop_map_500,prop_map_600]:\n",
    "    print(theoretical_closest(prop_map))"
   ]
  },
  {
   "cell_type": "code",
   "execution_count": 47,
   "id": "cfb22753",
   "metadata": {},
   "outputs": [],
   "source": [
    "def theoretical_closest_v2(prop_map):\n",
    "    mse = 0\n",
    "    for k in prop_map:\n",
    "        mse += prop_map[k]\n",
    "    return mse"
   ]
  },
  {
   "cell_type": "code",
   "execution_count": 49,
   "id": "5b3d101a",
   "metadata": {},
   "outputs": [
    {
     "name": "stdout",
     "output_type": "stream",
     "text": [
      "4.2387558035820705\n",
      "4.193519221035532\n",
      "3.615239162675303\n"
     ]
    }
   ],
   "source": []
  }
 ],
 "metadata": {
  "kernelspec": {
   "display_name": "Python 3 (ipykernel)",
   "language": "python",
   "name": "python3"
  },
  "language_info": {
   "codemirror_mode": {
    "name": "ipython",
    "version": 3
   },
   "file_extension": ".py",
   "mimetype": "text/x-python",
   "name": "python",
   "nbconvert_exporter": "python",
   "pygments_lexer": "ipython3",
   "version": "3.10.0"
  }
 },
 "nbformat": 4,
 "nbformat_minor": 5
}
