{
 "cells": [
  {
   "cell_type": "code",
   "execution_count": 9,
   "id": "0b29e469",
   "metadata": {},
   "outputs": [],
   "source": [
    "from models.trainModel import load_model\n",
    "from utils.dataset import load_dataset\n",
    "from utils.common import remove_digit_from_labels, one_hot_to_number\n",
    "from PIL import Image\n",
    "\n",
    "\n",
    "def get_images(teaching_set, ai, dataset):\n",
    "    images = []\n",
    "    X,Y,labels = load_dataset()  \n",
    "    found = []\n",
    "    title = []\n",
    "    for example in teaching_set:\n",
    "        example_label, value = example\n",
    "        found = False\n",
    "        for i in range(len(X)-1,0,-1):\n",
    "            corr_label = \"\".join(remove_digit_from_labels(labels[i]))\n",
    "            \n",
    "            if corr_label == example_label:\n",
    "                if one_hot_to_number(ai.predict(X[i]))== value:\n",
    "                    images.append(Image.fromarray(X[i]))\n",
    "                    title.append(value)\n",
    "                    found= True\n",
    "                    break\n",
    "        if not found:\n",
    "            print(\"Could not find a data instance with the combination of: \", example_label, value)\n",
    "    for img,title in zip(images,title):\n",
    "        img.show(title=title)\n",
    "    return images"
   ]
  },
  {
   "cell_type": "code",
   "execution_count": 10,
   "id": "5f84188d",
   "metadata": {},
   "outputs": [
    {
     "data": {
      "text/plain": [
       "[<PIL.Image.Image image mode=L size=64x64>,\n",
       " <PIL.Image.Image image mode=L size=64x64>,\n",
       " <PIL.Image.Image image mode=L size=64x64>]"
      ]
     },
     "execution_count": 10,
     "metadata": {},
     "output_type": "execute_result"
    }
   ],
   "source": [
    "teaching_set = [(\"A\",True),(\"B\",True),(\"\",False)]\n",
    "get_images(teaching_set, ai, (X,Y,labels))"
   ]
  },
  {
   "cell_type": "code",
   "execution_count": 5,
   "id": "eaf10ea7",
   "metadata": {},
   "outputs": [
    {
     "name": "stderr",
     "output_type": "stream",
     "text": [
      "2023-01-18 11:02:30.671244: I tensorflow/core/common_runtime/pluggable_device/pluggable_device_factory.cc:306] Could not identify NUMA node of platform GPU ID 0, defaulting to 0. Your kernel may not have been built with NUMA support.\n",
      "2023-01-18 11:02:30.671412: I tensorflow/core/common_runtime/pluggable_device/pluggable_device_factory.cc:272] Created TensorFlow device (/job:localhost/replica:0/task:0/device:GPU:0 with 0 MB memory) -> physical PluggableDevice (device: 0, name: METAL, pci bus id: <undefined>)\n"
     ]
    },
    {
     "name": "stdout",
     "output_type": "stream",
     "text": [
      "Metal device set to: Apple M2\n",
      "\n",
      "systemMemory: 16.00 GB\n",
      "maxCacheSize: 5.33 GB\n",
      "\n"
     ]
    }
   ],
   "source": [
    "ai = load_model(f\"CNN_paper_work_A_B10000000\")"
   ]
  },
  {
   "cell_type": "code",
   "execution_count": 28,
   "id": "a93e5bcc",
   "metadata": {},
   "outputs": [],
   "source": [
    "from utils.common import get_all_letter_combinations\n",
    "from random import randint, shuffle,choice\n",
    "from PIL import Image\n",
    "from utils.common import one_hot_to_number\n",
    "\n",
    "\n",
    "def generate_random_teaching_set_of_size_k(k,ai):\n",
    "    random_combo = list(zip(X,labels))\n",
    "    shuffle(random_combo)\n",
    "    \n",
    "    img_to_show = []\n",
    "    ai_values = []\n",
    "    letters = []\n",
    "    while len(letters) < k:\n",
    "        x,l = choice(random_combo)\n",
    "        l = \"\".join(remove_digit_from_labels(l))\n",
    "        if l not in letters:\n",
    "            letters.append(l)\n",
    "            img_to_show.append(Image.fromarray(x))\n",
    "            ai_values.append(one_hot_to_number(ai.predict(x)))\n",
    "    for i in range(len(img_to_show)):\n",
    "        print(letters[i], ai_values[i])\n",
    "        img_to_show[i].show()"
   ]
  },
  {
   "cell_type": "code",
   "execution_count": 35,
   "id": "620bb2ba",
   "metadata": {},
   "outputs": [
    {
     "name": "stdout",
     "output_type": "stream",
     "text": [
      "ABC 1\n",
      "AB 0\n",
      "AC 0\n",
      " 0\n",
      "A 0\n",
      "D 0\n"
     ]
    }
   ],
   "source": [
    "generate_random_teaching_set_of_size_k(6,ai)"
   ]
  },
  {
   "cell_type": "code",
   "execution_count": null,
   "id": "b8e64ff0",
   "metadata": {},
   "outputs": [],
   "source": []
  }
 ],
 "metadata": {
  "kernelspec": {
   "display_name": "Python 3 (ipykernel)",
   "language": "python",
   "name": "python3"
  },
  "language_info": {
   "codemirror_mode": {
    "name": "ipython",
    "version": 3
   },
   "file_extension": ".py",
   "mimetype": "text/x-python",
   "name": "python",
   "nbconvert_exporter": "python",
   "pygments_lexer": "ipython3",
   "version": "3.10.0"
  }
 },
 "nbformat": 4,
 "nbformat_minor": 5
}
